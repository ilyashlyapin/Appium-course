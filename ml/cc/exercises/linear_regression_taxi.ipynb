{
  "cells": [
    {
      "metadata": {
        "cellView": "form",
        "id": "X53vZqc7PxCA"
      },
      "cell_type": "code",
      "source": [
        "#@title Copyright 2023 Google LLC. Double-click here for license information.\n",
        "# Licensed under the Apache License, Version 2.0 (the \"License\");\n",
        "# you may not use this file except in compliance with the License.\n",
        "# You may obtain a copy of the License at\n",
        "#\n",
        "# https://www.apache.org/licenses/LICENSE-2.0\n",
        "#\n",
        "# Unless required by applicable law or agreed to in writing, software\n",
        "# distributed under the License is distributed on an \"AS IS\" BASIS,\n",
        "# WITHOUT WARRANTIES OR CONDITIONS OF ANY KIND, either express or implied.\n",
        "# See the License for the specific language governing permissions and\n",
        "# limitations under the License."
      ],
      "outputs": [],
      "execution_count": null
    },
    {
      "metadata": {
        "id": "mWCXBrPgQD0P"
      },
      "cell_type": "markdown",
      "source": [
        "# Colabs\n",
        "\n",
        "Machine Learning Crash Course uses Colaboratories (Colabs) for all programming exercises. Colab is Google's implementation of [Jupyter Notebook](https://jupyter.org/). For more information about Colabs and how to use them, go to [Welcome to Colaboratory](https://research.google.com/colaboratory).\n",
        "\n",
        "# Linear Regression\n",
        "In this Colab you will use a real dataset to train a model to predict the fare of a taxi ride in Chicago, Illinois.\n",
        "\n",
        "## Learning Objectives\n",
        "After completing this Colab, you'll be able to:\n",
        "\n",
        "  * Read a .csv file into a [pandas](https://developers.google.com/machine-learning/glossary/#pandas) DataFrame.\n",
        "  * Explore a [dataset](https://developers.google.com/machine-learning/glossary/#data_set) with Python visualization libraries.\n",
        "  * Experiment with different [features](https://developers.google.com/machine-learning/glossary/#feature) to build a linear regression model.\n",
        "  * Tune the model's [hyperparameters](https://developers.google.com/machine-learning/glossary/#hyperparameter).\n",
        "  * Compare training runs using [root mean squared error](https://developers.google.com/machine-learning/glossary/#root-mean-squared-error-rmse) and [loss curves](https://developers.google.com/machine-learning/glossary/#loss-curve).\n",
        "\n",
        "## Dataset Description\n",
        "The [dataset for this exercise](https://storage.mtls.cloud.google.com/mlcc-nextgen-internal/chicago_taxi_train.csv) is derived from the [City of Chicago Taxi Trips dataset](https://data.cityofchicago.org/Transportation/Taxi-Trips/wrvz-psew). The data for this exercise is a subset of the Taxi Trips data, and focuses on a two-day period in May of 2022."
      ]
    },
    {
      "metadata": {
        "id": "bBJQc5TgRrFx"
      },
      "cell_type": "markdown",
      "source": [
        "# Part 1 - Setup Exercise\n",
        "\n",
        "\n",
        "---"
      ]
    },
    {
      "metadata": {
        "id": "V9pkosc63-63"
      },
      "cell_type": "markdown",
      "source": [
        "## Load required modules\n",
        "\n",
        "This exercise depends on several Python libraries to help with data manipulation, machine learning tasks, and data visualization.\n",
        "\n",
        "**Instructions**\n",
        "1. Run the **Install required libraries** code cell (below).\n",
        "1. Run the **Load dependencies** code cell (below)."
      ]
    },
    {
      "metadata": {
        "id": "LihQB7ycKEnb"
      },
      "cell_type": "code",
      "source": [
        "#@title Install required libraries\n",
        "\n",
        "!pip install google-ml-edu==0.1.3 \\\n",
        "  keras~=3.8.0 \\\n",
        "  matplotlib~=3.10.0 \\\n",
        "  numpy~=2.0.0 \\\n",
        "  pandas~=2.2.0 \\\n",
        "  tensorflow~=2.18.0\n",
        "\n",
        "print('\\n\\nAll requirements successfully installed.')"
      ],
      "outputs": [],
      "execution_count": null
    },
    {
      "metadata": {
        "cellView": "form",
        "id": "wHBXW8ob16z3"
      },
      "cell_type": "code",
      "source": [
        "#@title Code - Load dependencies\n",
        "\n",
        "# data\n",
        "import numpy as np\n",
        "import pandas as pd\n",
        "\n",
        "# machine learning\n",
        "import keras\n",
        "import ml_edu.experiment\n",
        "import ml_edu.results\n",
        "\n",
        "# data visualization\n",
        "import plotly.express as px"
      ],
      "outputs": [],
      "execution_count": null
    },
    {
      "metadata": {
        "id": "sgR4YRjj5T-b"
      },
      "cell_type": "markdown",
      "source": [
        "## Load the dataset\n",
        "\n",
        "\n",
        "The following code cell loads the dataset and creates a pandas DataFrame.\n",
        "\n",
        "You can think of a DataFrame like a spreadsheet with rows and columns. The rows represent individual data examples, and the columns represent the attributes associated with each example."
      ]
    },
    {
      "metadata": {
        "id": "abmswn6USJjQ"
      },
      "cell_type": "code",
      "source": [
        "# @title\n",
        "chicago_taxi_dataset = pd.read_csv(\"https://download.mlcc.google.com/mledu-datasets/chicago_taxi_train.csv\")"
      ],
      "outputs": [],
      "execution_count": null
    },
    {
      "metadata": {
        "id": "iKE0s1hNQ4H9"
      },
      "cell_type": "markdown",
      "source": [
        "## Update the dataframe\n",
        "\n",
        "The following code cell updates the DataFrame to use only specific columns from the dataset.\n",
        "\n",
        "Notice that that output shows just a sample of the dataset, but there should be enough information for you to identify the features associated with the dataset, and have a look at the actual data for a few examples."
      ]
    },
    {
      "metadata": {
        "cellView": "form",
        "id": "YuLz6IgGP2LE"
      },
      "cell_type": "code",
      "source": [
        "#@title Code - Read dataset\n",
        "\n",
        "# Updates dataframe to use specific columns.\n",
        "training_df = chicago_taxi_dataset.loc[:, ('TRIP_MILES', 'TRIP_SECONDS', 'FARE', 'COMPANY', 'PAYMENT_TYPE', 'TIP_RATE')]\n",
        "\n",
        "print('Read dataset completed successfully.')\n",
        "print('Total number of rows: {0}\\n\\n'.format(len(training_df.index)))\n",
        "training_df.head(200)"
      ],
      "outputs": [],
      "execution_count": null
    },
    {
      "metadata": {
        "id": "RUL471vSR28O"
      },
      "cell_type": "markdown",
      "source": [
        "# Part 2 - Dataset Exploration\n",
        "\n",
        "\n",
        "---"
      ]
    },
    {
      "metadata": {
        "id": "7mhqzPIS9nFv"
      },
      "cell_type": "markdown",
      "source": [
        "## View dataset statistics\n",
        "\n",
        "A large part of most machine learning projects is getting to know your data. In this step, you will use the ``DataFrame.describe`` method to view descriptive statistics about the dataset and answer some important questions about the data.\n",
        "\n",
        "**Instructions**\n",
        "1. Run the **View dataset statistics** code cell.\n",
        "1. Inspect the output and answer these questions:\n",
        "  * What is the maximum fare?\n",
        "  * What is the mean distance across all trips?\n",
        "  * How many cab companies are in the dataset?\n",
        "  * What is the most frequent payment type?\n",
        "  * Are any features missing data?\n",
        "1. Run the code **View answers to dataset statistics** code cell to check your answers.\n",
        "\n",
        "\n",
        "You might be wondering why there are groups of `NaN` (not a number) values listed in the output. When working with data in Python, you may see this value if the result of a calculation can not be computed or if there is missing information. For example, in the taxi dataset `PAYMENT_TYPE` and `COMPANY` are non-numeric, categorical features; numeric information such as mean and max do not make sense for categorical features so the output displays `NaN`."
      ]
    },
    {
      "metadata": {
        "cellView": "form",
        "id": "pkuQNjgoAKYt"
      },
      "cell_type": "code",
      "source": [
        "#@title Code - View dataset statistics\n",
        "\n",
        "print('Total number of rows: {0}\\n\\n'.format(len(training_df.index)))\n",
        "training_df.describe(include='all')"
      ],
      "outputs": [],
      "execution_count": null
    },
    {
      "metadata": {
        "cellView": "form",
        "id": "VQ9R5o7CcFzY"
      },
      "cell_type": "code",
      "source": [
        "#@title Double-click or run to view answers about dataset statistics\n",
        "\n",
        "answer = '''\n",
        "What is the maximum fare? \t\t\t\t              Answer: $159.25\n",
        "What is the mean distance across all trips? \t\tAnswer: 8.2895 miles\n",
        "How many cab companies are in the dataset? \t\t  Answer: 31\n",
        "What is the most frequent payment type? \t\t    Answer: Credit Card\n",
        "Are any features missing data? \t\t\t\t          Answer: No\n",
        "'''\n",
        "\n",
        "# You should be able to find the answers to the questions about the dataset\n",
        "# by inspecting the table output after running the DataFrame describe method.\n",
        "#\n",
        "# Run this code cell to verify your answers.\n",
        "\n",
        "# What is the maximum fare?\n",
        "max_fare = training_df['FARE'].max()\n",
        "print(\"What is the maximum fare? \t\t\t\tAnswer: ${fare:.2f}\".format(fare = max_fare))\n",
        "\n",
        "# What is the mean distance across all trips?\n",
        "mean_distance = training_df['TRIP_MILES'].mean()\n",
        "print(\"What is the mean distance across all trips? \t\tAnswer: {mean:.4f} miles\".format(mean = mean_distance))\n",
        "\n",
        "# How many cab companies are in the dataset?\n",
        "num_unique_companies =  training_df['COMPANY'].nunique()\n",
        "print(\"How many cab companies are in the dataset? \t\tAnswer: {number}\".format(number = num_unique_companies))\n",
        "\n",
        "# What is the most frequent payment type?\n",
        "most_freq_payment_type = training_df['PAYMENT_TYPE'].value_counts().idxmax()\n",
        "print(\"What is the most frequent payment type? \t\tAnswer: {type}\".format(type = most_freq_payment_type))\n",
        "\n",
        "# Are any features missing data?\n",
        "missing_values = training_df.isnull().sum().sum()\n",
        "print(\"Are any features missing data? \t\t\t\tAnswer:\", \"No\" if missing_values == 0 else \"Yes\")"
      ],
      "outputs": [],
      "execution_count": null
    },
    {
      "metadata": {
        "id": "-StQ4-wbBpIP"
      },
      "cell_type": "markdown",
      "source": [
        "## Generate a correlation matrix\n",
        "\n",
        "An important part of machine learning is determining which [features](https://developers.google.com/machine-learning/glossary/#feature) correlate with the [label](https://developers.google.com/machine-learning/glossary/#label). If you have ever taken a taxi ride before, your experience is probably telling you that the fare is typically associated with the distance traveled and the duration of the trip. But, is there a way for you to learn more about how well these features correlate to the fare (label)?\n",
        "\n",
        "In this step, you will use a **correlation matrix** to identify features whose values correlate well with the label. Correlation values have the following meanings:\n",
        "\n",
        "  * **`1.0`**: perfect positive correlation; that is, when one attribute rises, the other attribute rises.\n",
        "  * **`-1.0`**: perfect negative correlation; that is, when one attribute rises, the other attribute falls.\n",
        "  * **`0.0`**: no correlation; the two columns [are not linearly related](https://en.wikipedia.org/wiki/Correlation_and_dependence#/media/File:Correlation_examples2.svg).\n",
        "\n",
        "In general, the higher the absolute value of a correlation value, the greater its predictive power.\n",
        "\n",
        "**Instructions**\n",
        "\n",
        "1. Inspect the code in the **View correlation matrix** code cell.\n",
        "1. Run the **View correlation matrix** code cell and inspect the output.\n",
        "1. **Check your understanding** by answering these questions:\n",
        "  * Which feature correlates most strongly to the label FARE?\n",
        "  * Which feature correlates least strongly to the label FARE?\n"
      ]
    },
    {
      "metadata": {
        "cellView": "form",
        "id": "-1kFmfdFDVmv"
      },
      "cell_type": "code",
      "source": [
        "#@title Code - View correlation matrix\n",
        "training_df.corr(numeric_only = True)"
      ],
      "outputs": [],
      "execution_count": null
    },
    {
      "metadata": {
        "cellView": "form",
        "id": "ExPq1h6wIzvR"
      },
      "cell_type": "code",
      "source": [
        "#@title Double-click to view answers about the correlation matrix\n",
        "\n",
        "# Which feature correlates most strongly to the label FARE?\n",
        "# ---------------------------------------------------------\n",
        "answer = '''\n",
        "The feature with the strongest correlation to the FARE is TRIP_MILES.\n",
        "As you might expect, TRIP_MILES looks like a good feature to start with to train\n",
        "the model. Also, notice that the feature TRIP_SECONDS has a strong correlation\n",
        "with fare too.\n",
        "'''\n",
        "print(answer)\n",
        "\n",
        "\n",
        "# Which feature correlates least strongly to the label FARE?\n",
        "# -----------------------------------------------------------\n",
        "answer = '''The feature with the weakest correlation to the FARE is TIP_RATE.'''\n",
        "print(answer)"
      ],
      "outputs": [],
      "execution_count": null
    },
    {
      "metadata": {
        "id": "rqklIw96G7JA"
      },
      "cell_type": "markdown",
      "source": [
        "## Visualize relationships in dataset\n",
        "\n",
        "Sometimes it is helpful to visualize relationships between features in a dataset; one way to do this is with a pair plot. A **pair plot** generates a grid of pairwise plots to visualize the relationship of each feature with all other features all in one place.\n",
        "\n",
        "**Instructions**\n",
        "1. Run the **View pair plot** code cell."
      ]
    },
    {
      "metadata": {
        "id": "ph0FE7ZxHY36"
      },
      "cell_type": "code",
      "source": [
        "#@title Code - View pairplot\n",
        "px.scatter_matrix(training_df, dimensions=[\"FARE\", \"TRIP_MILES\", \"TRIP_SECONDS\"])"
      ],
      "outputs": [],
      "execution_count": null
    },
    {
      "metadata": {
        "id": "zrereRcYR9KG"
      },
      "cell_type": "markdown",
      "source": [
        "# Part 3 - Train Model\n",
        "\n",
        "\n",
        "---"
      ]
    },
    {
      "metadata": {
        "id": "iRluiQhNvTwc"
      },
      "cell_type": "markdown",
      "source": [
        "## Define functions to build and train a model\n",
        "\n",
        "The code you need to build and train your model is in the **Define ML functions** code cell. If you would like to explore this code, expand the code cell and take a look.\n",
        "\n",
        "**Instructions**\n",
        "1. Run the **Define ML functions** code cell."
      ]
    },
    {
      "metadata": {
        "cellView": "form",
        "id": "W6a7dtcCob-n",
        "colab": {
          "base_uri": "https://localhost:8080/"
        },
        "outputId": "02891136-92a2-4ac5-e08a-d8859de84738"
      },
      "cell_type": "code",
      "source": [
        "#@title Code - Define ML functions\n",
        "\n",
        "def create_model(\n",
        "    settings: ml_edu.experiment.ExperimentSettings,\n",
        "    metrics: list[keras.metrics.Metric],\n",
        ") -> keras.Model:\n",
        "  \"\"\"Create and compile a simple linear regression model.\"\"\"\n",
        "  # Describe the topography of the model.\n",
        "  # The topography of a simple linear regression model\n",
        "  # is a single node in a single layer.\n",
        "  inputs = {name: keras.Input(shape=(1,), name=name) for name in settings.input_features}\n",
        "  concatenated_inputs = keras.layers.Concatenate()(list(inputs.values()))\n",
        "  outputs = keras.layers.Dense(units=1)(concatenated_inputs)\n",
        "  model = keras.Model(inputs=inputs, outputs=outputs)\n",
        "\n",
        "  # Compile the model topography into code that Keras can efficiently\n",
        "  # execute. Configure training to minimize the model's mean squared error.\n",
        "  model.compile(optimizer=keras.optimizers.RMSprop(learning_rate=settings.learning_rate),\n",
        "                loss=\"mean_squared_error\",\n",
        "                metrics=metrics)\n",
        "\n",
        "  return model\n",
        "\n",
        "\n",
        "def train_model(\n",
        "    experiment_name: str,\n",
        "    model: keras.Model,\n",
        "    dataset: pd.DataFrame,\n",
        "    label_name: str,\n",
        "    settings: ml_edu.experiment.ExperimentSettings,\n",
        ") -> ml_edu.experiment.Experiment:\n",
        "  \"\"\"Train the model by feeding it data.\"\"\"\n",
        "\n",
        "  # Feed the model the feature and the label.\n",
        "  # The model will train for the specified number of epochs.\n",
        "  features = {name: dataset[name].values for name in settings.input_features}\n",
        "  label = dataset[label_name].values\n",
        "  history = model.fit(x=features,\n",
        "                      y=label,\n",
        "                      batch_size=settings.batch_size,\n",
        "                      epochs=settings.number_epochs)\n",
        "\n",
        "  return ml_edu.experiment.Experiment(\n",
        "      name=experiment_name,\n",
        "      settings=settings,\n",
        "      model=model,\n",
        "      epochs=history.epoch,\n",
        "      metrics_history=pd.DataFrame(history.history),\n",
        "  )\n",
        "\n",
        "print(\"SUCCESS: defining linear regression functions complete.\")"
      ],
      "outputs": [
        {
          "output_type": "stream",
          "name": "stdout",
          "text": [
            "SUCCESS: defining linear regression functions complete.\n"
          ]
        }
      ],
      "execution_count": 29
    },
    {
      "metadata": {
        "id": "m3DQCE2OpH4-"
      },
      "cell_type": "markdown",
      "source": [
        "## Train a model with one feature\n",
        "\n",
        "In this step you will train a model to predict the cost of the fare using a **single feature**. Earlier, you saw that `TRIP_MILES` (distance) correlates most strongly with the ``FARE``, so let's start with `TRIP_MILES` as the feature for your first training run.\n",
        "\n",
        "**Instructions**\n",
        "\n",
        "1. Run the **Experiment 1** code cell to build your model with one feature.\n",
        "1. Review the output from the training run\n",
        "1. **Check your understanding** by answering these questions:\n",
        "  * How many epochs did it take to converge on the final model?\n",
        "  * How well does the model fit the sample data?\n",
        "\n",
        "During training, you should see the root mean square error (RMSE) in the output. The units for RMSE are the same as the units for the label (dollars). In other words, you can use the RMSE to determine how far off, on average, the predicted fares are in dollars from the observed values."
      ]
    },
    {
      "metadata": {
        "id": "F_17Aum6IG1F",
        "colab": {
          "base_uri": "https://localhost:8080/",
          "height": 1000
        },
        "outputId": "583349e4-d975-4f8f-9ea7-e75273ca313f"
      },
      "cell_type": "code",
      "source": [
        "#@title Code - Experiment 1\n",
        "\n",
        "# The following variables are the hyperparameters.\n",
        "settings_1 = ml_edu.experiment.ExperimentSettings(\n",
        "    learning_rate = 0.001,\n",
        "    number_epochs = 20,\n",
        "    batch_size = 50,\n",
        "    input_features = ['TRIP_MILES']\n",
        ")\n",
        "\n",
        "metrics = [keras.metrics.RootMeanSquaredError(name='rmse')]\n",
        "\n",
        "model_1 = create_model(settings_1, metrics)\n",
        "\n",
        "experiment_1 = train_model('one_feature', model_1, training_df, 'FARE', settings_1)\n",
        "\n",
        "ml_edu.results.plot_experiment_metrics(experiment_1, ['rmse'])\n",
        "ml_edu.results.plot_model_predictions(experiment_1, training_df, 'FARE')"
      ],
      "outputs": [
        {
          "output_type": "stream",
          "name": "stdout",
          "text": [
            "Epoch 1/20\n",
            "\u001b[1m634/634\u001b[0m \u001b[32m━━━━━━━━━━━━━━━━━━━━\u001b[0m\u001b[37m\u001b[0m \u001b[1m1s\u001b[0m 786us/step - loss: 1650.0978 - rmse: 40.6083\n",
            "Epoch 2/20\n",
            "\u001b[1m634/634\u001b[0m \u001b[32m━━━━━━━━━━━━━━━━━━━━\u001b[0m\u001b[37m\u001b[0m \u001b[1m1s\u001b[0m 768us/step - loss: 1124.7289 - rmse: 33.5162\n",
            "Epoch 3/20\n",
            "\u001b[1m634/634\u001b[0m \u001b[32m━━━━━━━━━━━━━━━━━━━━\u001b[0m\u001b[37m\u001b[0m \u001b[1m1s\u001b[0m 994us/step - loss: 675.1516 - rmse: 25.9687\n",
            "Epoch 4/20\n",
            "\u001b[1m634/634\u001b[0m \u001b[32m━━━━━━━━━━━━━━━━━━━━\u001b[0m\u001b[37m\u001b[0m \u001b[1m0s\u001b[0m 761us/step - loss: 360.1350 - rmse: 18.9520\n",
            "Epoch 5/20\n",
            "\u001b[1m634/634\u001b[0m \u001b[32m━━━━━━━━━━━━━━━━━━━━\u001b[0m\u001b[37m\u001b[0m \u001b[1m1s\u001b[0m 771us/step - loss: 141.7784 - rmse: 11.8727\n",
            "Epoch 6/20\n",
            "\u001b[1m634/634\u001b[0m \u001b[32m━━━━━━━━━━━━━━━━━━━━\u001b[0m\u001b[37m\u001b[0m \u001b[1m1s\u001b[0m 800us/step - loss: 32.2899 - rmse: 5.6560\n",
            "Epoch 7/20\n",
            "\u001b[1m634/634\u001b[0m \u001b[32m━━━━━━━━━━━━━━━━━━━━\u001b[0m\u001b[37m\u001b[0m \u001b[1m1s\u001b[0m 784us/step - loss: 14.1160 - rmse: 3.7549\n",
            "Epoch 8/20\n",
            "\u001b[1m634/634\u001b[0m \u001b[32m━━━━━━━━━━━━━━━━━━━━\u001b[0m\u001b[37m\u001b[0m \u001b[1m1s\u001b[0m 802us/step - loss: 14.2921 - rmse: 3.7753\n",
            "Epoch 9/20\n",
            "\u001b[1m634/634\u001b[0m \u001b[32m━━━━━━━━━━━━━━━━━━━━\u001b[0m\u001b[37m\u001b[0m \u001b[1m1s\u001b[0m 802us/step - loss: 16.1115 - rmse: 4.0086\n",
            "Epoch 10/20\n",
            "\u001b[1m634/634\u001b[0m \u001b[32m━━━━━━━━━━━━━━━━━━━━\u001b[0m\u001b[37m\u001b[0m \u001b[1m1s\u001b[0m 791us/step - loss: 15.0363 - rmse: 3.8735\n",
            "Epoch 11/20\n",
            "\u001b[1m634/634\u001b[0m \u001b[32m━━━━━━━━━━━━━━━━━━━━\u001b[0m\u001b[37m\u001b[0m \u001b[1m1s\u001b[0m 771us/step - loss: 15.1747 - rmse: 3.8847\n",
            "Epoch 12/20\n",
            "\u001b[1m634/634\u001b[0m \u001b[32m━━━━━━━━━━━━━━━━━━━━\u001b[0m\u001b[37m\u001b[0m \u001b[1m1s\u001b[0m 771us/step - loss: 14.6000 - rmse: 3.8146\n",
            "Epoch 13/20\n",
            "\u001b[1m634/634\u001b[0m \u001b[32m━━━━━━━━━━━━━━━━━━━━\u001b[0m\u001b[37m\u001b[0m \u001b[1m1s\u001b[0m 784us/step - loss: 14.2830 - rmse: 3.7675\n",
            "Epoch 14/20\n",
            "\u001b[1m634/634\u001b[0m \u001b[32m━━━━━━━━━━━━━━━━━━━━\u001b[0m\u001b[37m\u001b[0m \u001b[1m1s\u001b[0m 768us/step - loss: 14.1285 - rmse: 3.7431\n",
            "Epoch 15/20\n",
            "\u001b[1m634/634\u001b[0m \u001b[32m━━━━━━━━━━━━━━━━━━━━\u001b[0m\u001b[37m\u001b[0m \u001b[1m0s\u001b[0m 757us/step - loss: 16.4968 - rmse: 4.0477\n",
            "Epoch 16/20\n",
            "\u001b[1m634/634\u001b[0m \u001b[32m━━━━━━━━━━━━━━━━━━━━\u001b[0m\u001b[37m\u001b[0m \u001b[1m0s\u001b[0m 747us/step - loss: 14.8335 - rmse: 3.8458\n",
            "Epoch 17/20\n",
            "\u001b[1m634/634\u001b[0m \u001b[32m━━━━━━━━━━━━━━━━━━━━\u001b[0m\u001b[37m\u001b[0m \u001b[1m1s\u001b[0m 775us/step - loss: 14.2546 - rmse: 3.7716\n",
            "Epoch 18/20\n",
            "\u001b[1m634/634\u001b[0m \u001b[32m━━━━━━━━━━━━━━━━━━━━\u001b[0m\u001b[37m\u001b[0m \u001b[1m1s\u001b[0m 763us/step - loss: 13.9890 - rmse: 3.7340\n",
            "Epoch 19/20\n",
            "\u001b[1m634/634\u001b[0m \u001b[32m━━━━━━━━━━━━━━━━━━━━\u001b[0m\u001b[37m\u001b[0m \u001b[1m1s\u001b[0m 810us/step - loss: 13.1238 - rmse: 3.6187\n",
            "Epoch 20/20\n",
            "\u001b[1m634/634\u001b[0m \u001b[32m━━━━━━━━━━━━━━━━━━━━\u001b[0m\u001b[37m\u001b[0m \u001b[1m1s\u001b[0m 773us/step - loss: 13.0011 - rmse: 3.5969\n",
            "\u001b[1m7/7\u001b[0m \u001b[32m━━━━━━━━━━━━━━━━━━━━\u001b[0m\u001b[37m\u001b[0m \u001b[1m0s\u001b[0m 4ms/step \n"
          ]
        },
        {
          "output_type": "display_data",
          "data": {
            "text/html": [
              "<html>\n",
              "<head><meta charset=\"utf-8\" /></head>\n",
              "<body>\n",
              "    <div>            <script src=\"https://cdnjs.cloudflare.com/ajax/libs/mathjax/2.7.5/MathJax.js?config=TeX-AMS-MML_SVG\"></script><script type=\"text/javascript\">if (window.MathJax && window.MathJax.Hub && window.MathJax.Hub.Config) {window.MathJax.Hub.Config({SVG: {font: \"STIX-Web\"}});}</script>                <script type=\"text/javascript\">window.PlotlyConfig = {MathJaxConfig: 'local'};</script>\n",
              "        <script charset=\"utf-8\" src=\"https://cdn.plot.ly/plotly-2.35.2.min.js\"></script>                <div id=\"50dd642e-f572-47dc-b527-29be7d709b98\" class=\"plotly-graph-div\" style=\"height:525px; width:100%;\"></div>            <script type=\"text/javascript\">                                    window.PLOTLYENV=window.PLOTLYENV || {};                                    if (document.getElementById(\"50dd642e-f572-47dc-b527-29be7d709b98\")) {                    Plotly.newPlot(                        \"50dd642e-f572-47dc-b527-29be7d709b98\",                        [{\"hovertemplate\":\"TRIP_MILES=%{x}\\u003cbr\\u003eFARE=%{y}\\u003cextra\\u003e\\u003c\\u002fextra\\u003e\",\"legendgroup\":\"\",\"marker\":{\"color\":\"#636efa\",\"symbol\":\"circle\"},\"mode\":\"markers\",\"name\":\"\",\"orientation\":\"v\",\"showlegend\":false,\"x\":[2.53,23.68,1.9,6.12,0.79,13.21,1.91,16.9,12.4,4.53,3.87,3.1,2.12,7.08,2.16,1.91,10.4,10.1,17.49,5.7,13.32,7.1,2.05,20.67,11.4,5.6,3.2,6.86,18.0,12.79,14.7,8.22,1.14,18.4,3.78,1.72,17.41,16.42,0.5,11.09,15.82,1.22,17.5,9.34,12.68,14.4,16.9,5.87,6.07,2.19,7.24,16.73,14.6,18.04,10.87,9.8,2.78,0.9,2.85,1.5,2.02,2.32,17.28,18.34,8.05,1.36,1.42,0.71,15.39,12.72,11.38,5.12,2.0,19.1,1.85,1.33,12.17,9.73,1.07,1.41,8.71,5.7,19.88,34.2,10.2,12.13,1.59,7.14,1.8,1.47,8.3,2.8,15.64,26.08,11.61,7.7,18.21,0.8,9.4,2.93,10.43,18.2,9.21,15.4,0.9,1.61,2.5,1.0,12.26,11.89,12.23,2.5,4.83,0.84,13.32,0.97,5.9,10.12,2.76,18.71,3.1,5.55,3.2,3.98,0.97,2.46,0.87,18.63,6.38,0.7,1.27,15.0,16.99,0.56,1.7,6.54,1.64,12.11,19.3,17.0,13.1,1.25,9.1,17.4,17.73,17.4,5.63,1.5,1.66,18.45,0.8,1.33,16.98,5.7,17.1,17.44,14.1,1.7,3.63,1.19,3.86,12.7,0.73,17.3,2.1,7.3,3.55,0.6,17.72,5.65,1.25,4.3,1.16,1.01,17.59,5.15,3.68,1.19,2.0,10.84,1.27,18.88,2.48,1.56,19.91,0.69,1.55,2.8,0.74,1.17,16.9,1.5,12.95,17.89,20.52,2.47,13.7,1.26,2.91,16.5],\"xaxis\":\"x\",\"y\":[10.34,57.0,9.0,18.5,5.25,34.25,8.75,41.75,33.5,14.25,13.5,13.0,9.0,19.75,10.9,9.25,29.0,27.75,43.25,20.75,37.5,28.0,8.75,52.0,33.5,16.75,13.25,19.75,3.25,34.0,37.89,24.5,6.75,47.0,13.25,9.0,43.0,41.0,4.75,30.0,41.25,7.0,45.0,30.25,36.76,37.25,42.5,18.53,24.25,9.0,22.61,42.0,38.0,46.0,34.5,30.25,10.75,59.75,11.0,7.5,9.36,9.0,42.25,45.75,21.5,7.25,7.25,5.5,38.75,31.75,30.75,26.25,10.25,47.25,30.0,7.25,33.25,28.75,6.75,7.75,24.5,18.0,55.14,82.0,30.25,30.5,7.25,20.0,11.5,8.25,22.5,10.0,41.75,63.0,29.25,23.5,45.5,5.5,45.75,11.86,30.5,45.25,26.0,39.0,6.0,8.75,11.25,6.25,32.25,31.25,31.5,10.0,14.5,5.5,36.0,6.25,16.75,57.0,14.5,46.25,12.5,17.5,12.25,15.0,9.0,17.75,5.5,46.5,20.0,5.5,9.0,36.75,43.75,4.5,9.25,19.25,10.5,30.6,47.5,42.75,33.5,6.75,24.25,45.0,44.0,43.5,16.75,7.75,9.0,46.5,5.5,7.5,42.0,23.0,44.25,44.25,36.5,8.5,11.75,8.0,13.75,33.25,5.75,44.0,9.0,22.5,14.0,6.0,44.5,20.0,9.0,14.25,7.0,6.0,44.25,16.75,14.0,7.0,8.5,28.25,9.0,46.25,10.45,8.25,48.75,5.25,9.0,10.5,6.25,7.25,41.25,8.5,32.5,44.25,51.0,10.27,37.75,7.25,10.5,42.25],\"yaxis\":\"y\",\"type\":\"scatter\"},{\"mode\":\"lines\",\"name\":\"prediction\",\"x\":[2.53,23.68,1.9,6.12,0.79,13.21,1.91,16.9,12.4,4.53,3.87,3.1,2.12,7.08,2.16,1.91,10.4,10.1,17.49,5.7,13.32,7.1,2.05,20.67,11.4,5.6,3.2,6.86,18.0,12.79,14.7,8.22,1.14,18.4,3.78,1.72,17.41,16.42,0.5,11.09,15.82,1.22,17.5,9.34,12.68,14.4,16.9,5.87,6.07,2.19,7.24,16.73,14.6,18.04,10.87,9.8,2.78,0.9,2.85,1.5,2.02,2.32,17.28,18.34,8.05,1.36,1.42,0.71,15.39,12.72,11.38,5.12,2.0,19.1,1.85,1.33,12.17,9.73,1.07,1.41,8.71,5.7,19.88,34.2,10.2,12.13,1.59,7.14,1.8,1.47,8.3,2.8,15.64,26.08,11.61,7.7,18.21,0.8,9.4,2.93,10.43,18.2,9.21,15.4,0.9,1.61,2.5,1.0,12.26,11.89,12.23,2.5,4.83,0.84,13.32,0.97,5.9,10.12,2.76,18.71,3.1,5.55,3.2,3.98,0.97,2.46,0.87,18.63,6.38,0.7,1.27,15.0,16.99,0.56,1.7,6.54,1.64,12.11,19.3,17.0,13.1,1.25,9.1,17.4,17.73,17.4,5.63,1.5,1.66,18.45,0.8,1.33,16.98,5.7,17.1,17.44,14.1,1.7,3.63,1.19,3.86,12.7,0.73,17.3,2.1,7.3,3.55,0.6,17.72,5.65,1.25,4.3,1.16,1.01,17.59,5.15,3.68,1.19,2.0,10.84,1.27,18.88,2.48,1.56,19.91,0.69,1.55,2.8,0.74,1.17,16.9,1.5,12.95,17.89,20.52,2.47,13.7,1.26,2.91,16.5],\"y\":[10.758297,59.01933,9.320734,18.950123,6.7878866,35.128407,9.343554,43.548416,33.28011,15.321988,13.815969,12.0589485,9.822741,21.140694,9.914015,9.343554,28.71642,28.031868,44.894703,17.991747,35.379406,21.186329,9.663012,52.150974,30.998264,17.763561,12.287134,20.638687,46.058445,34.17003,38.528355,23.741997,7.586532,46.971184,13.610604,8.910003,44.71216,42.45313,6.126151,30.290894,41.084023,7.76908,44.917522,26.297665,33.91903,37.8438,43.548416,18.379662,18.83603,9.98247,21.505787,43.1605,38.30017,46.149723,29.788887,27.347313,11.328758,7.038889,11.488487,8.407997,9.594556,10.27911,44.41552,46.834274,23.354084,8.088538,8.225449,6.6053386,40.10283,34.010303,30.95263,16.668278,9.54892,48.568478,9.206642,8.020082,32.755287,27.187584,7.426803,8.20263,24.8601,17.991747,50.348312,83.02434,28.260052,32.664013,8.613363,21.277603,9.09255,8.339541,23.924545,11.374395,40.67329,64.49575,31.477451,22.555439,46.537632,6.8107047,26.434574,11.671036,28.784878,46.514816,26.001022,40.12565,7.038889,8.658999,10.689842,7.2670736,32.96065,32.11637,32.892197,10.689842,16.006542,6.9019785,35.379406,7.198619,18.448116,28.077503,11.283121,47.678555,12.0589485,17.649471,12.287134,14.066973,7.198619,10.598568,6.970434,47.496006,19.543402,6.5825205,7.883172,39.21291,43.75378,6.263062,8.864366,19.908497,8.727455,32.618374,49.02484,43.7766,34.877403,7.837535,25.750023,44.68934,45.442345,44.68934,17.832018,8.407997,8.773092,47.085278,6.8107047,8.020082,43.73096,17.991747,44.004784,44.780613,37.15925,8.864366,13.268328,7.7006245,13.793151,33.964664,6.6509757,44.46115,9.777103,21.6427,13.085779,6.354336,45.41953,17.877655,7.837535,14.797164,7.632169,7.289892,45.12289,16.736732,13.38242,7.7006245,9.54892,29.720432,7.883172,48.066467,10.644205,8.544907,50.41677,6.559702,8.522089,11.374395,6.6737943,7.6549873,43.548416,8.407997,34.535126,45.80744,51.808697,10.621387,36.24651,7.8603535,11.625399,42.635677],\"type\":\"scatter\"}],                        {\"template\":{\"data\":{\"histogram2dcontour\":[{\"type\":\"histogram2dcontour\",\"colorbar\":{\"outlinewidth\":0,\"ticks\":\"\"},\"colorscale\":[[0.0,\"#0d0887\"],[0.1111111111111111,\"#46039f\"],[0.2222222222222222,\"#7201a8\"],[0.3333333333333333,\"#9c179e\"],[0.4444444444444444,\"#bd3786\"],[0.5555555555555556,\"#d8576b\"],[0.6666666666666666,\"#ed7953\"],[0.7777777777777778,\"#fb9f3a\"],[0.8888888888888888,\"#fdca26\"],[1.0,\"#f0f921\"]]}],\"choropleth\":[{\"type\":\"choropleth\",\"colorbar\":{\"outlinewidth\":0,\"ticks\":\"\"}}],\"histogram2d\":[{\"type\":\"histogram2d\",\"colorbar\":{\"outlinewidth\":0,\"ticks\":\"\"},\"colorscale\":[[0.0,\"#0d0887\"],[0.1111111111111111,\"#46039f\"],[0.2222222222222222,\"#7201a8\"],[0.3333333333333333,\"#9c179e\"],[0.4444444444444444,\"#bd3786\"],[0.5555555555555556,\"#d8576b\"],[0.6666666666666666,\"#ed7953\"],[0.7777777777777778,\"#fb9f3a\"],[0.8888888888888888,\"#fdca26\"],[1.0,\"#f0f921\"]]}],\"heatmap\":[{\"type\":\"heatmap\",\"colorbar\":{\"outlinewidth\":0,\"ticks\":\"\"},\"colorscale\":[[0.0,\"#0d0887\"],[0.1111111111111111,\"#46039f\"],[0.2222222222222222,\"#7201a8\"],[0.3333333333333333,\"#9c179e\"],[0.4444444444444444,\"#bd3786\"],[0.5555555555555556,\"#d8576b\"],[0.6666666666666666,\"#ed7953\"],[0.7777777777777778,\"#fb9f3a\"],[0.8888888888888888,\"#fdca26\"],[1.0,\"#f0f921\"]]}],\"heatmapgl\":[{\"type\":\"heatmapgl\",\"colorbar\":{\"outlinewidth\":0,\"ticks\":\"\"},\"colorscale\":[[0.0,\"#0d0887\"],[0.1111111111111111,\"#46039f\"],[0.2222222222222222,\"#7201a8\"],[0.3333333333333333,\"#9c179e\"],[0.4444444444444444,\"#bd3786\"],[0.5555555555555556,\"#d8576b\"],[0.6666666666666666,\"#ed7953\"],[0.7777777777777778,\"#fb9f3a\"],[0.8888888888888888,\"#fdca26\"],[1.0,\"#f0f921\"]]}],\"contourcarpet\":[{\"type\":\"contourcarpet\",\"colorbar\":{\"outlinewidth\":0,\"ticks\":\"\"}}],\"contour\":[{\"type\":\"contour\",\"colorbar\":{\"outlinewidth\":0,\"ticks\":\"\"},\"colorscale\":[[0.0,\"#0d0887\"],[0.1111111111111111,\"#46039f\"],[0.2222222222222222,\"#7201a8\"],[0.3333333333333333,\"#9c179e\"],[0.4444444444444444,\"#bd3786\"],[0.5555555555555556,\"#d8576b\"],[0.6666666666666666,\"#ed7953\"],[0.7777777777777778,\"#fb9f3a\"],[0.8888888888888888,\"#fdca26\"],[1.0,\"#f0f921\"]]}],\"surface\":[{\"type\":\"surface\",\"colorbar\":{\"outlinewidth\":0,\"ticks\":\"\"},\"colorscale\":[[0.0,\"#0d0887\"],[0.1111111111111111,\"#46039f\"],[0.2222222222222222,\"#7201a8\"],[0.3333333333333333,\"#9c179e\"],[0.4444444444444444,\"#bd3786\"],[0.5555555555555556,\"#d8576b\"],[0.6666666666666666,\"#ed7953\"],[0.7777777777777778,\"#fb9f3a\"],[0.8888888888888888,\"#fdca26\"],[1.0,\"#f0f921\"]]}],\"mesh3d\":[{\"type\":\"mesh3d\",\"colorbar\":{\"outlinewidth\":0,\"ticks\":\"\"}}],\"scatter\":[{\"fillpattern\":{\"fillmode\":\"overlay\",\"size\":10,\"solidity\":0.2},\"type\":\"scatter\"}],\"parcoords\":[{\"type\":\"parcoords\",\"line\":{\"colorbar\":{\"outlinewidth\":0,\"ticks\":\"\"}}}],\"scatterpolargl\":[{\"type\":\"scatterpolargl\",\"marker\":{\"colorbar\":{\"outlinewidth\":0,\"ticks\":\"\"}}}],\"bar\":[{\"error_x\":{\"color\":\"#2a3f5f\"},\"error_y\":{\"color\":\"#2a3f5f\"},\"marker\":{\"line\":{\"color\":\"#E5ECF6\",\"width\":0.5},\"pattern\":{\"fillmode\":\"overlay\",\"size\":10,\"solidity\":0.2}},\"type\":\"bar\"}],\"scattergeo\":[{\"type\":\"scattergeo\",\"marker\":{\"colorbar\":{\"outlinewidth\":0,\"ticks\":\"\"}}}],\"scatterpolar\":[{\"type\":\"scatterpolar\",\"marker\":{\"colorbar\":{\"outlinewidth\":0,\"ticks\":\"\"}}}],\"histogram\":[{\"marker\":{\"pattern\":{\"fillmode\":\"overlay\",\"size\":10,\"solidity\":0.2}},\"type\":\"histogram\"}],\"scattergl\":[{\"type\":\"scattergl\",\"marker\":{\"colorbar\":{\"outlinewidth\":0,\"ticks\":\"\"}}}],\"scatter3d\":[{\"type\":\"scatter3d\",\"line\":{\"colorbar\":{\"outlinewidth\":0,\"ticks\":\"\"}},\"marker\":{\"colorbar\":{\"outlinewidth\":0,\"ticks\":\"\"}}}],\"scattermapbox\":[{\"type\":\"scattermapbox\",\"marker\":{\"colorbar\":{\"outlinewidth\":0,\"ticks\":\"\"}}}],\"scatterternary\":[{\"type\":\"scatterternary\",\"marker\":{\"colorbar\":{\"outlinewidth\":0,\"ticks\":\"\"}}}],\"scattercarpet\":[{\"type\":\"scattercarpet\",\"marker\":{\"colorbar\":{\"outlinewidth\":0,\"ticks\":\"\"}}}],\"carpet\":[{\"aaxis\":{\"endlinecolor\":\"#2a3f5f\",\"gridcolor\":\"white\",\"linecolor\":\"white\",\"minorgridcolor\":\"white\",\"startlinecolor\":\"#2a3f5f\"},\"baxis\":{\"endlinecolor\":\"#2a3f5f\",\"gridcolor\":\"white\",\"linecolor\":\"white\",\"minorgridcolor\":\"white\",\"startlinecolor\":\"#2a3f5f\"},\"type\":\"carpet\"}],\"table\":[{\"cells\":{\"fill\":{\"color\":\"#EBF0F8\"},\"line\":{\"color\":\"white\"}},\"header\":{\"fill\":{\"color\":\"#C8D4E3\"},\"line\":{\"color\":\"white\"}},\"type\":\"table\"}],\"barpolar\":[{\"marker\":{\"line\":{\"color\":\"#E5ECF6\",\"width\":0.5},\"pattern\":{\"fillmode\":\"overlay\",\"size\":10,\"solidity\":0.2}},\"type\":\"barpolar\"}],\"pie\":[{\"automargin\":true,\"type\":\"pie\"}]},\"layout\":{\"autotypenumbers\":\"strict\",\"colorway\":[\"#636efa\",\"#EF553B\",\"#00cc96\",\"#ab63fa\",\"#FFA15A\",\"#19d3f3\",\"#FF6692\",\"#B6E880\",\"#FF97FF\",\"#FECB52\"],\"font\":{\"color\":\"#2a3f5f\"},\"hovermode\":\"closest\",\"hoverlabel\":{\"align\":\"left\"},\"paper_bgcolor\":\"white\",\"plot_bgcolor\":\"#E5ECF6\",\"polar\":{\"bgcolor\":\"#E5ECF6\",\"angularaxis\":{\"gridcolor\":\"white\",\"linecolor\":\"white\",\"ticks\":\"\"},\"radialaxis\":{\"gridcolor\":\"white\",\"linecolor\":\"white\",\"ticks\":\"\"}},\"ternary\":{\"bgcolor\":\"#E5ECF6\",\"aaxis\":{\"gridcolor\":\"white\",\"linecolor\":\"white\",\"ticks\":\"\"},\"baxis\":{\"gridcolor\":\"white\",\"linecolor\":\"white\",\"ticks\":\"\"},\"caxis\":{\"gridcolor\":\"white\",\"linecolor\":\"white\",\"ticks\":\"\"}},\"coloraxis\":{\"colorbar\":{\"outlinewidth\":0,\"ticks\":\"\"}},\"colorscale\":{\"sequential\":[[0.0,\"#0d0887\"],[0.1111111111111111,\"#46039f\"],[0.2222222222222222,\"#7201a8\"],[0.3333333333333333,\"#9c179e\"],[0.4444444444444444,\"#bd3786\"],[0.5555555555555556,\"#d8576b\"],[0.6666666666666666,\"#ed7953\"],[0.7777777777777778,\"#fb9f3a\"],[0.8888888888888888,\"#fdca26\"],[1.0,\"#f0f921\"]],\"sequentialminus\":[[0.0,\"#0d0887\"],[0.1111111111111111,\"#46039f\"],[0.2222222222222222,\"#7201a8\"],[0.3333333333333333,\"#9c179e\"],[0.4444444444444444,\"#bd3786\"],[0.5555555555555556,\"#d8576b\"],[0.6666666666666666,\"#ed7953\"],[0.7777777777777778,\"#fb9f3a\"],[0.8888888888888888,\"#fdca26\"],[1.0,\"#f0f921\"]],\"diverging\":[[0,\"#8e0152\"],[0.1,\"#c51b7d\"],[0.2,\"#de77ae\"],[0.3,\"#f1b6da\"],[0.4,\"#fde0ef\"],[0.5,\"#f7f7f7\"],[0.6,\"#e6f5d0\"],[0.7,\"#b8e186\"],[0.8,\"#7fbc41\"],[0.9,\"#4d9221\"],[1,\"#276419\"]]},\"xaxis\":{\"gridcolor\":\"white\",\"linecolor\":\"white\",\"ticks\":\"\",\"title\":{\"standoff\":15},\"zerolinecolor\":\"white\",\"automargin\":true,\"zerolinewidth\":2},\"yaxis\":{\"gridcolor\":\"white\",\"linecolor\":\"white\",\"ticks\":\"\",\"title\":{\"standoff\":15},\"zerolinecolor\":\"white\",\"automargin\":true,\"zerolinewidth\":2},\"scene\":{\"xaxis\":{\"backgroundcolor\":\"#E5ECF6\",\"gridcolor\":\"white\",\"linecolor\":\"white\",\"showbackground\":true,\"ticks\":\"\",\"zerolinecolor\":\"white\",\"gridwidth\":2},\"yaxis\":{\"backgroundcolor\":\"#E5ECF6\",\"gridcolor\":\"white\",\"linecolor\":\"white\",\"showbackground\":true,\"ticks\":\"\",\"zerolinecolor\":\"white\",\"gridwidth\":2},\"zaxis\":{\"backgroundcolor\":\"#E5ECF6\",\"gridcolor\":\"white\",\"linecolor\":\"white\",\"showbackground\":true,\"ticks\":\"\",\"zerolinecolor\":\"white\",\"gridwidth\":2}},\"shapedefaults\":{\"line\":{\"color\":\"#2a3f5f\"}},\"annotationdefaults\":{\"arrowcolor\":\"#2a3f5f\",\"arrowhead\":0,\"arrowwidth\":1},\"geo\":{\"bgcolor\":\"white\",\"landcolor\":\"#E5ECF6\",\"subunitcolor\":\"white\",\"showland\":true,\"showlakes\":true,\"lakecolor\":\"white\"},\"title\":{\"x\":0.05},\"mapbox\":{\"style\":\"light\"}}},\"xaxis\":{\"anchor\":\"y\",\"domain\":[0.0,1.0],\"title\":{\"text\":\"TRIP_MILES\"}},\"yaxis\":{\"anchor\":\"x\",\"domain\":[0.0,1.0],\"title\":{\"text\":\"FARE\"}},\"legend\":{\"tracegroupgap\":0},\"title\":{\"text\":\"Model predictions vs. true values\"}},                        {\"responsive\": true}                    ).then(function(){\n",
              "                            \n",
              "var gd = document.getElementById('50dd642e-f572-47dc-b527-29be7d709b98');\n",
              "var x = new MutationObserver(function (mutations, observer) {{\n",
              "        var display = window.getComputedStyle(gd).display;\n",
              "        if (!display || display === 'none') {{\n",
              "            console.log([gd, 'removed!']);\n",
              "            Plotly.purge(gd);\n",
              "            observer.disconnect();\n",
              "        }}\n",
              "}});\n",
              "\n",
              "// Listen for the removal of the full notebook cells\n",
              "var notebookContainer = gd.closest('#notebook-container');\n",
              "if (notebookContainer) {{\n",
              "    x.observe(notebookContainer, {childList: true});\n",
              "}}\n",
              "\n",
              "// Listen for the clearing of the current output cell\n",
              "var outputEl = gd.closest('.output');\n",
              "if (outputEl) {{\n",
              "    x.observe(outputEl, {childList: true});\n",
              "}}\n",
              "\n",
              "                        })                };                            </script>        </div>\n",
              "</body>\n",
              "</html>"
            ]
          },
          "metadata": {}
        },
        {
          "output_type": "display_data",
          "data": {
            "text/plain": [
              "<Figure size 640x480 with 1 Axes>"
            ],
            "image/png": "[encoded data removed]"
          },
          "metadata": {}
        }
      ],
      "execution_count": 30
    },
    {
      "metadata": {
        "cellView": "form",
        "id": "y8Qnmb0wZ_pQ",
        "colab": {
          "base_uri": "https://localhost:8080/"
        },
        "outputId": "e963a675-61e7-42b7-d587-bbc84215f7af"
      },
      "cell_type": "code",
      "source": [
        "#@title Double-click to view answers for training model with one feature\n",
        "\n",
        "# How many epochs did it take to converge on the final model?\n",
        "# -----------------------------------------------------------------------------\n",
        "answer = \"\"\"\n",
        "Use the loss curve to see where the loss begins to level off during training.\n",
        "\n",
        "With this set of hyperparameters:\n",
        "\n",
        "  learning_rate = 0.001\n",
        "  epochs = 20\n",
        "  batch_size = 50\n",
        "\n",
        "it takes about 5 epochs for the training run to converge to the final model.\n",
        "\"\"\"\n",
        "print(answer)\n",
        "\n",
        "# How well does the model fit the sample data?\n",
        "# -----------------------------------------------------------------------------\n",
        "answer = '''\n",
        "It appears from the model plot that the model fits the sample data fairly well.\n",
        "'''\n",
        "print(answer)"
      ],
      "outputs": [
        {
          "output_type": "stream",
          "name": "stdout",
          "text": [
            "\n",
            "Use the loss curve to see where the loss begins to level off during training.\n",
            "\n",
            "With this set of hyperparameters:\n",
            "\n",
            "  learning_rate = 0.001\n",
            "  epochs = 20\n",
            "  batch_size = 50\n",
            "\n",
            "it takes about 5 epochs for the training run to converge to the final model.\n",
            "\n",
            "\n",
            "It appears from the model plot that the model fits the sample data fairly well.\n",
            "\n"
          ]
        }
      ],
      "execution_count": 31
    },
    {
      "metadata": {
        "id": "MYmWW0a9p1ro"
      },
      "cell_type": "markdown",
      "source": [
        "## Experiment with hyperparameters\n",
        "\n",
        "It is common with machine learning to run multiple experiments to find the best set of hyperparmeters to train your model. In this step, try varying the hyperparameters one by one with this set of experiments:\n",
        "\n",
        "* *Experiment 1:* **Increase** the learning rate to **``1``** (batch size at ``50``).\n",
        "* *Experiment 2:* **Decrease** the learning rate to **``0.0001``** (batch size at ``50``).\n",
        "* *Experiment 3:* **Increase** the batch size to **``500``** (learning rate at ``0.001``).\n",
        "\n",
        "**Instructions**\n",
        "1. Update the hyperparameter values in the **Experiment 2** code cell according to the experiment.\n",
        "2. Run the **Experiment 2** code cell.\n",
        "3. After the training run, examine the output and note any differences you see in the loss curve or model output.\n",
        "4. Repeat steps 1 - 3 for each hyperparameter experiment.\n",
        "5. **Check your understanding** by answering these questions:\n",
        "  * How did raising the learning rate impact your ability to train the model?\n",
        "  * How did lowering the learning rate impact your ability to train the model?\n",
        "  * Did changing the batch size effect your training results?\n"
      ]
    },
    {
      "metadata": {
        "cellView": "form",
        "id": "PdUXEm1xeWcK",
        "colab": {
          "base_uri": "https://localhost:8080/",
          "height": 1000
        },
        "outputId": "8233e78b-9266-42a1-a54c-266db07cdca6"
      },
      "cell_type": "code",
      "source": [
        "#@title Code - Experiment 2\n",
        "\n",
        "# The following variables are the hyperparameters.\n",
        "# TODO - Adjust these hyperparameters to see how they impact a training run.\n",
        "settings_2 = ml_edu.experiment.ExperimentSettings(\n",
        "    learning_rate = 0.001,\n",
        "    number_epochs = 20,\n",
        "    batch_size = 50,\n",
        "    input_features = ['TRIP_MILES']\n",
        ")\n",
        "\n",
        "metrics = [keras.metrics.RootMeanSquaredError(name='rmse')]\n",
        "\n",
        "model_2 = create_model(settings_2, metrics)\n",
        "\n",
        "experiment_2 = train_model('one_feature_hyper', model_2, training_df, 'FARE', settings_2)\n",
        "\n",
        "ml_edu.results.plot_experiment_metrics(experiment_2, ['rmse'])\n",
        "ml_edu.results.plot_model_predictions(experiment_2, training_df, 'FARE')"
      ],
      "outputs": [
        {
          "output_type": "stream",
          "name": "stdout",
          "text": [
            "Epoch 1/20\n",
            "\u001b[1m634/634\u001b[0m \u001b[32m━━━━━━━━━━━━━━━━━━━━\u001b[0m\u001b[37m\u001b[0m \u001b[1m1s\u001b[0m 841us/step - loss: 1163.7009 - rmse: 34.0953\n",
            "Epoch 2/20\n",
            "\u001b[1m634/634\u001b[0m \u001b[32m━━━━━━━━━━━━━━━━━━━━\u001b[0m\u001b[37m\u001b[0m \u001b[1m1s\u001b[0m 826us/step - loss: 716.8245 - rmse: 26.7541\n",
            "Epoch 3/20\n",
            "\u001b[1m634/634\u001b[0m \u001b[32m━━━━━━━━━━━━━━━━━━━━\u001b[0m\u001b[37m\u001b[0m \u001b[1m1s\u001b[0m 1ms/step - loss: 382.2489 - rmse: 19.5241\n",
            "Epoch 4/20\n",
            "\u001b[1m634/634\u001b[0m \u001b[32m━━━━━━━━━━━━━━━━━━━━\u001b[0m\u001b[37m\u001b[0m \u001b[1m1s\u001b[0m 793us/step - loss: 158.2517 - rmse: 12.5425\n",
            "Epoch 5/20\n",
            "\u001b[1m634/634\u001b[0m \u001b[32m━━━━━━━━━━━━━━━━━━━━\u001b[0m\u001b[37m\u001b[0m \u001b[1m1s\u001b[0m 821us/step - loss: 38.8765 - rmse: 6.2024\n",
            "Epoch 6/20\n",
            "\u001b[1m634/634\u001b[0m \u001b[32m━━━━━━━━━━━━━━━━━━━━\u001b[0m\u001b[37m\u001b[0m \u001b[1m1s\u001b[0m 805us/step - loss: 16.4445 - rmse: 4.0492\n",
            "Epoch 7/20\n",
            "\u001b[1m634/634\u001b[0m \u001b[32m━━━━━━━━━━━━━━━━━━━━\u001b[0m\u001b[37m\u001b[0m \u001b[1m0s\u001b[0m 755us/step - loss: 14.2633 - rmse: 3.7720\n",
            "Epoch 8/20\n",
            "\u001b[1m634/634\u001b[0m \u001b[32m━━━━━━━━━━━━━━━━━━━━\u001b[0m\u001b[37m\u001b[0m \u001b[1m1s\u001b[0m 790us/step - loss: 14.1738 - rmse: 3.7461\n",
            "Epoch 9/20\n",
            "\u001b[1m634/634\u001b[0m \u001b[32m━━━━━━━━━━━━━━━━━━━━\u001b[0m\u001b[37m\u001b[0m \u001b[1m1s\u001b[0m 814us/step - loss: 14.4209 - rmse: 3.7914\n",
            "Epoch 10/20\n",
            "\u001b[1m634/634\u001b[0m \u001b[32m━━━━━━━━━━━━━━━━━━━━\u001b[0m\u001b[37m\u001b[0m \u001b[1m1s\u001b[0m 801us/step - loss: 13.9800 - rmse: 3.7332\n",
            "Epoch 11/20\n",
            "\u001b[1m634/634\u001b[0m \u001b[32m━━━━━━━━━━━━━━━━━━━━\u001b[0m\u001b[37m\u001b[0m \u001b[1m1s\u001b[0m 793us/step - loss: 14.1496 - rmse: 3.7558\n",
            "Epoch 12/20\n",
            "\u001b[1m634/634\u001b[0m \u001b[32m━━━━━━━━━━━━━━━━━━━━\u001b[0m\u001b[37m\u001b[0m \u001b[1m1s\u001b[0m 842us/step - loss: 12.1274 - rmse: 3.4704\n",
            "Epoch 13/20\n",
            "\u001b[1m634/634\u001b[0m \u001b[32m━━━━━━━━━━━━━━━━━━━━\u001b[0m\u001b[37m\u001b[0m \u001b[1m0s\u001b[0m 762us/step - loss: 14.9435 - rmse: 3.8569\n",
            "Epoch 14/20\n",
            "\u001b[1m634/634\u001b[0m \u001b[32m━━━━━━━━━━━━━━━━━━━━\u001b[0m\u001b[37m\u001b[0m \u001b[1m1s\u001b[0m 775us/step - loss: 13.6014 - rmse: 3.6789\n",
            "Epoch 15/20\n",
            "\u001b[1m634/634\u001b[0m \u001b[32m━━━━━━━━━━━━━━━━━━━━\u001b[0m\u001b[37m\u001b[0m \u001b[1m1s\u001b[0m 787us/step - loss: 13.7091 - rmse: 3.6997\n",
            "Epoch 16/20\n",
            "\u001b[1m634/634\u001b[0m \u001b[32m━━━━━━━━━━━━━━━━━━━━\u001b[0m\u001b[37m\u001b[0m \u001b[1m1s\u001b[0m 831us/step - loss: 13.7986 - rmse: 3.7109\n",
            "Epoch 17/20\n",
            "\u001b[1m634/634\u001b[0m \u001b[32m━━━━━━━━━━━━━━━━━━━━\u001b[0m\u001b[37m\u001b[0m \u001b[1m1s\u001b[0m 787us/step - loss: 15.3728 - rmse: 3.9050\n",
            "Epoch 18/20\n",
            "\u001b[1m634/634\u001b[0m \u001b[32m━━━━━━━━━━━━━━━━━━━━\u001b[0m\u001b[37m\u001b[0m \u001b[1m1s\u001b[0m 822us/step - loss: 15.2039 - rmse: 3.8536\n",
            "Epoch 19/20\n",
            "\u001b[1m634/634\u001b[0m \u001b[32m━━━━━━━━━━━━━━━━━━━━\u001b[0m\u001b[37m\u001b[0m \u001b[1m1s\u001b[0m 765us/step - loss: 13.6378 - rmse: 3.6879\n",
            "Epoch 20/20\n",
            "\u001b[1m634/634\u001b[0m \u001b[32m━━━━━━━━━━━━━━━━━━━━\u001b[0m\u001b[37m\u001b[0m \u001b[1m1s\u001b[0m 806us/step - loss: 14.8563 - rmse: 3.8463\n",
            "\u001b[1m7/7\u001b[0m \u001b[32m━━━━━━━━━━━━━━━━━━━━\u001b[0m\u001b[37m\u001b[0m \u001b[1m0s\u001b[0m 4ms/step \n"
          ]
        },
        {
          "output_type": "display_data",
          "data": {
            "text/html": [
              "<html>\n",
              "<head><meta charset=\"utf-8\" /></head>\n",
              "<body>\n",
              "    <div>            <script src=\"https://cdnjs.cloudflare.com/ajax/libs/mathjax/2.7.5/MathJax.js?config=TeX-AMS-MML_SVG\"></script><script type=\"text/javascript\">if (window.MathJax && window.MathJax.Hub && window.MathJax.Hub.Config) {window.MathJax.Hub.Config({SVG: {font: \"STIX-Web\"}});}</script>                <script type=\"text/javascript\">window.PlotlyConfig = {MathJaxConfig: 'local'};</script>\n",
              "        <script charset=\"utf-8\" src=\"https://cdn.plot.ly/plotly-2.35.2.min.js\"></script>                <div id=\"aae65e4b-40af-46b2-a6fd-18eca91fcfb7\" class=\"plotly-graph-div\" style=\"height:525px; width:100%;\"></div>            <script type=\"text/javascript\">                                    window.PLOTLYENV=window.PLOTLYENV || {};                                    if (document.getElementById(\"aae65e4b-40af-46b2-a6fd-18eca91fcfb7\")) {                    Plotly.newPlot(                        \"aae65e4b-40af-46b2-a6fd-18eca91fcfb7\",                        [{\"hovertemplate\":\"TRIP_MILES=%{x}\\u003cbr\\u003eFARE=%{y}\\u003cextra\\u003e\\u003c\\u002fextra\\u003e\",\"legendgroup\":\"\",\"marker\":{\"color\":\"#636efa\",\"symbol\":\"circle\"},\"mode\":\"markers\",\"name\":\"\",\"orientation\":\"v\",\"showlegend\":false,\"x\":[3.18,1.72,2.14,1.49,7.5,1.75,18.93,10.43,17.5,17.5,1.8,2.2,0.8,22.71,1.8,3.5,13.53,21.85,5.01,15.7,21.11,15.38,7.4,9.0,0.8,8.34,9.06,13.0,6.61,17.42,6.4,6.52,20.5,5.09,3.86,9.4,8.04,15.91,5.55,10.18,34.9,14.01,30.7,1.78,17.9,11.84,12.0,1.14,1.28,2.09,2.66,7.15,14.6,18.5,1.06,1.16,5.33,20.76,19.24,0.57,1.54,17.97,18.1,7.4,1.82,0.8,11.8,17.9,18.1,15.68,1.02,1.41,1.59,10.9,7.9,0.86,17.17,1.2,1.35,11.1,17.89,14.67,17.8,6.73,12.3,5.77,17.35,5.35,10.4,2.2,16.73,0.84,1.1,2.7,2.63,13.27,17.46,0.9,8.8,8.8,0.63,10.72,18.98,11.4,1.65,17.1,16.3,4.38,2.01,1.42,10.66,2.4,10.71,8.4,18.65,1.79,16.7,8.3,12.52,12.6,16.1,17.47,1.6,17.35,8.05,1.85,1.04,18.9,18.05,1.13,1.74,8.76,1.6,12.36,1.29,0.77,17.7,17.75,8.48,17.54,18.2,1.4,3.86,2.91,1.4,1.06,1.76,1.26,17.6,11.0,2.07,18.3,17.5,13.3,18.36,12.73,1.26,17.8,1.64,7.67,15.71,2.4,1.9,2.9,3.0,3.4,2.42,1.17,16.93,11.41,1.8,7.98,3.81,1.0,1.9,8.6,0.59,6.39,3.16,6.12,3.91,17.6,6.46,0.9,9.22,13.06,17.72,2.0,17.2,2.52,3.46,11.88,28.0,1.8,16.54,8.97,18.25,12.4,0.74,16.67],\"xaxis\":\"x\",\"y\":[12.26,9.25,9.25,9.0,28.0,8.25,47.75,27.5,43.0,43.25,9.75,9.75,11.88,55.75,9.0,12.5,34.25,56.25,16.46,38.5,51.0,39.0,21.25,27.75,6.5,24.25,25.89,36.0,20.5,43.0,21.75,18.75,50.75,17.59,14.46,27.0,24.75,40.0,16.75,28.5,85.0,36.75,72.0,9.0,44.75,34.5,33.75,6.25,7.25,8.75,11.25,20.75,36.0,46.75,6.25,6.75,18.75,50.75,47.0,4.75,8.25,45.0,46.25,21.0,9.25,5.25,18.0,45.25,45.75,40.0,6.25,7.75,7.75,28.25,23.75,5.5,43.56,6.75,9.0,30.0,45.0,38.0,44.0,20.25,31.75,17.25,43.75,17.25,29.0,9.75,41.75,6.0,6.5,10.0,10.75,34.0,43.0,59.75,24.75,25.0,5.75,33.25,47.25,30.25,11.0,42.25,62.5,14.25,9.0,9.0,27.75,10.0,30.5,26.75,48.0,9.0,42.0,23.0,32.5,33.0,40.75,44.5,7.75,43.0,25.0,9.0,6.5,42.25,49.25,6.0,9.0,23.5,8.75,34.25,6.5,4.75,44.75,46.25,27.5,43.25,46.0,7.75,13.5,14.16,7.25,6.25,11.5,9.0,43.75,52.5,10.0,45.5,43.5,36.25,45.25,32.25,7.25,44.75,7.5,21.0,39.75,10.5,7.75,9.75,9.75,12.0,9.5,7.25,80.0,30.0,9.12,25.5,13.75,6.25,8.75,25.0,9.0,47.99,11.75,19.25,13.0,44.0,32.25,7.0,26.5,32.5,45.0,9.0,42.0,10.85,11.25,31.75,66.75,8.25,42.0,21.58,48.25,33.75,5.5,41.0],\"yaxis\":\"y\",\"type\":\"scatter\"},{\"mode\":\"lines\",\"name\":\"prediction\",\"x\":[3.18,1.72,2.14,1.49,7.5,1.75,18.93,10.43,17.5,17.5,1.8,2.2,0.8,22.71,1.8,3.5,13.53,21.85,5.01,15.7,21.11,15.38,7.4,9.0,0.8,8.34,9.06,13.0,6.61,17.42,6.4,6.52,20.5,5.09,3.86,9.4,8.04,15.91,5.55,10.18,34.9,14.01,30.7,1.78,17.9,11.84,12.0,1.14,1.28,2.09,2.66,7.15,14.6,18.5,1.06,1.16,5.33,20.76,19.24,0.57,1.54,17.97,18.1,7.4,1.82,0.8,11.8,17.9,18.1,15.68,1.02,1.41,1.59,10.9,7.9,0.86,17.17,1.2,1.35,11.1,17.89,14.67,17.8,6.73,12.3,5.77,17.35,5.35,10.4,2.2,16.73,0.84,1.1,2.7,2.63,13.27,17.46,0.9,8.8,8.8,0.63,10.72,18.98,11.4,1.65,17.1,16.3,4.38,2.01,1.42,10.66,2.4,10.71,8.4,18.65,1.79,16.7,8.3,12.52,12.6,16.1,17.47,1.6,17.35,8.05,1.85,1.04,18.9,18.05,1.13,1.74,8.76,1.6,12.36,1.29,0.77,17.7,17.75,8.48,17.54,18.2,1.4,3.86,2.91,1.4,1.06,1.76,1.26,17.6,11.0,2.07,18.3,17.5,13.3,18.36,12.73,1.26,17.8,1.64,7.67,15.71,2.4,1.9,2.9,3.0,3.4,2.42,1.17,16.93,11.41,1.8,7.98,3.81,1.0,1.9,8.6,0.59,6.39,3.16,6.12,3.91,17.6,6.46,0.9,9.22,13.06,17.72,2.0,17.2,2.52,3.46,11.88,28.0,1.8,16.54,8.97,18.25,12.4,0.74,16.67],\"y\":[12.194906,8.876652,9.831219,8.353912,22.013302,8.944835,47.991142,28.672539,44.74107,44.74107,9.058474,9.967585,6.785697,56.582237,9.058474,12.9221945,35.718143,54.62765,16.354088,40.65007,52.945797,39.922783,21.786024,25.422468,6.785697,23.922436,25.558836,34.513573,19.99053,44.55925,19.513247,19.78598,51.559402,16.53591,13.740395,26.331577,23.240602,41.127354,17.581387,28.104345,84.28739,36.80908,74.74173,9.013018,45.65018,31.877153,32.2408,7.558441,7.87663,9.717579,11.013062,21.21783,38.150017,47.013847,7.3766184,7.603896,17.081375,52.150322,48.6957,6.262958,8.467552,45.809273,46.104736,21.786024,9.1039295,6.785697,31.786243,45.65018,46.104736,40.604618,7.2857075,8.172091,8.58119,29.740742,22.922413,6.922064,43.991055,7.694808,8.035725,30.1953,45.627453,38.309113,45.4229,20.263264,32.92263,18.081398,44.400154,17.126831,28.604355,9.967585,42.99103,6.876608,7.4675303,11.103973,10.944879,35.127224,44.650158,7.0129747,24.967913,24.967913,6.399325,29.331644,48.10478,30.87713,8.717557,43.831963,42.013737,14.922237,9.535757,8.1948185,29.195276,10.42214,29.308916,24.0588,47.354763,9.035746,42.92285,23.831524,33.42264,33.604465,41.559185,44.672886,8.603918,44.400154,23.26333,9.172112,7.3311634,47.92296,45.991096,7.535713,8.922108,24.877,8.603918,33.058994,7.899358,6.7175136,45.19563,45.309265,24.240622,44.831985,46.332016,8.149363,13.740395,11.581257,8.149363,7.3766184,8.967563,7.831174,44.96835,29.968021,9.672123,46.55929,44.74107,35.195408,46.69566,33.89992,7.831174,45.4229,8.69483,22.399675,40.672802,10.42214,9.285751,11.558529,11.785807,12.694917,10.467596,7.626624,43.445587,30.899858,9.058474,23.104235,13.626755,7.2402525,9.285751,24.513357,6.3084135,19.490519,12.14945,18.87687,13.8540325,44.96835,19.649614,7.0129747,25.92248,34.64994,45.24108,9.513029,44.05924,10.694873,12.831284,31.968065,68.605225,9.058474,42.559208,25.354284,46.445652,33.149906,6.64933,42.854668],\"type\":\"scatter\"}],                        {\"template\":{\"data\":{\"histogram2dcontour\":[{\"type\":\"histogram2dcontour\",\"colorbar\":{\"outlinewidth\":0,\"ticks\":\"\"},\"colorscale\":[[0.0,\"#0d0887\"],[0.1111111111111111,\"#46039f\"],[0.2222222222222222,\"#7201a8\"],[0.3333333333333333,\"#9c179e\"],[0.4444444444444444,\"#bd3786\"],[0.5555555555555556,\"#d8576b\"],[0.6666666666666666,\"#ed7953\"],[0.7777777777777778,\"#fb9f3a\"],[0.8888888888888888,\"#fdca26\"],[1.0,\"#f0f921\"]]}],\"choropleth\":[{\"type\":\"choropleth\",\"colorbar\":{\"outlinewidth\":0,\"ticks\":\"\"}}],\"histogram2d\":[{\"type\":\"histogram2d\",\"colorbar\":{\"outlinewidth\":0,\"ticks\":\"\"},\"colorscale\":[[0.0,\"#0d0887\"],[0.1111111111111111,\"#46039f\"],[0.2222222222222222,\"#7201a8\"],[0.3333333333333333,\"#9c179e\"],[0.4444444444444444,\"#bd3786\"],[0.5555555555555556,\"#d8576b\"],[0.6666666666666666,\"#ed7953\"],[0.7777777777777778,\"#fb9f3a\"],[0.8888888888888888,\"#fdca26\"],[1.0,\"#f0f921\"]]}],\"heatmap\":[{\"type\":\"heatmap\",\"colorbar\":{\"outlinewidth\":0,\"ticks\":\"\"},\"colorscale\":[[0.0,\"#0d0887\"],[0.1111111111111111,\"#46039f\"],[0.2222222222222222,\"#7201a8\"],[0.3333333333333333,\"#9c179e\"],[0.4444444444444444,\"#bd3786\"],[0.5555555555555556,\"#d8576b\"],[0.6666666666666666,\"#ed7953\"],[0.7777777777777778,\"#fb9f3a\"],[0.8888888888888888,\"#fdca26\"],[1.0,\"#f0f921\"]]}],\"heatmapgl\":[{\"type\":\"heatmapgl\",\"colorbar\":{\"outlinewidth\":0,\"ticks\":\"\"},\"colorscale\":[[0.0,\"#0d0887\"],[0.1111111111111111,\"#46039f\"],[0.2222222222222222,\"#7201a8\"],[0.3333333333333333,\"#9c179e\"],[0.4444444444444444,\"#bd3786\"],[0.5555555555555556,\"#d8576b\"],[0.6666666666666666,\"#ed7953\"],[0.7777777777777778,\"#fb9f3a\"],[0.8888888888888888,\"#fdca26\"],[1.0,\"#f0f921\"]]}],\"contourcarpet\":[{\"type\":\"contourcarpet\",\"colorbar\":{\"outlinewidth\":0,\"ticks\":\"\"}}],\"contour\":[{\"type\":\"contour\",\"colorbar\":{\"outlinewidth\":0,\"ticks\":\"\"},\"colorscale\":[[0.0,\"#0d0887\"],[0.1111111111111111,\"#46039f\"],[0.2222222222222222,\"#7201a8\"],[0.3333333333333333,\"#9c179e\"],[0.4444444444444444,\"#bd3786\"],[0.5555555555555556,\"#d8576b\"],[0.6666666666666666,\"#ed7953\"],[0.7777777777777778,\"#fb9f3a\"],[0.8888888888888888,\"#fdca26\"],[1.0,\"#f0f921\"]]}],\"surface\":[{\"type\":\"surface\",\"colorbar\":{\"outlinewidth\":0,\"ticks\":\"\"},\"colorscale\":[[0.0,\"#0d0887\"],[0.1111111111111111,\"#46039f\"],[0.2222222222222222,\"#7201a8\"],[0.3333333333333333,\"#9c179e\"],[0.4444444444444444,\"#bd3786\"],[0.5555555555555556,\"#d8576b\"],[0.6666666666666666,\"#ed7953\"],[0.7777777777777778,\"#fb9f3a\"],[0.8888888888888888,\"#fdca26\"],[1.0,\"#f0f921\"]]}],\"mesh3d\":[{\"type\":\"mesh3d\",\"colorbar\":{\"outlinewidth\":0,\"ticks\":\"\"}}],\"scatter\":[{\"fillpattern\":{\"fillmode\":\"overlay\",\"size\":10,\"solidity\":0.2},\"type\":\"scatter\"}],\"parcoords\":[{\"type\":\"parcoords\",\"line\":{\"colorbar\":{\"outlinewidth\":0,\"ticks\":\"\"}}}],\"scatterpolargl\":[{\"type\":\"scatterpolargl\",\"marker\":{\"colorbar\":{\"outlinewidth\":0,\"ticks\":\"\"}}}],\"bar\":[{\"error_x\":{\"color\":\"#2a3f5f\"},\"error_y\":{\"color\":\"#2a3f5f\"},\"marker\":{\"line\":{\"color\":\"#E5ECF6\",\"width\":0.5},\"pattern\":{\"fillmode\":\"overlay\",\"size\":10,\"solidity\":0.2}},\"type\":\"bar\"}],\"scattergeo\":[{\"type\":\"scattergeo\",\"marker\":{\"colorbar\":{\"outlinewidth\":0,\"ticks\":\"\"}}}],\"scatterpolar\":[{\"type\":\"scatterpolar\",\"marker\":{\"colorbar\":{\"outlinewidth\":0,\"ticks\":\"\"}}}],\"histogram\":[{\"marker\":{\"pattern\":{\"fillmode\":\"overlay\",\"size\":10,\"solidity\":0.2}},\"type\":\"histogram\"}],\"scattergl\":[{\"type\":\"scattergl\",\"marker\":{\"colorbar\":{\"outlinewidth\":0,\"ticks\":\"\"}}}],\"scatter3d\":[{\"type\":\"scatter3d\",\"line\":{\"colorbar\":{\"outlinewidth\":0,\"ticks\":\"\"}},\"marker\":{\"colorbar\":{\"outlinewidth\":0,\"ticks\":\"\"}}}],\"scattermapbox\":[{\"type\":\"scattermapbox\",\"marker\":{\"colorbar\":{\"outlinewidth\":0,\"ticks\":\"\"}}}],\"scatterternary\":[{\"type\":\"scatterternary\",\"marker\":{\"colorbar\":{\"outlinewidth\":0,\"ticks\":\"\"}}}],\"scattercarpet\":[{\"type\":\"scattercarpet\",\"marker\":{\"colorbar\":{\"outlinewidth\":0,\"ticks\":\"\"}}}],\"carpet\":[{\"aaxis\":{\"endlinecolor\":\"#2a3f5f\",\"gridcolor\":\"white\",\"linecolor\":\"white\",\"minorgridcolor\":\"white\",\"startlinecolor\":\"#2a3f5f\"},\"baxis\":{\"endlinecolor\":\"#2a3f5f\",\"gridcolor\":\"white\",\"linecolor\":\"white\",\"minorgridcolor\":\"white\",\"startlinecolor\":\"#2a3f5f\"},\"type\":\"carpet\"}],\"table\":[{\"cells\":{\"fill\":{\"color\":\"#EBF0F8\"},\"line\":{\"color\":\"white\"}},\"header\":{\"fill\":{\"color\":\"#C8D4E3\"},\"line\":{\"color\":\"white\"}},\"type\":\"table\"}],\"barpolar\":[{\"marker\":{\"line\":{\"color\":\"#E5ECF6\",\"width\":0.5},\"pattern\":{\"fillmode\":\"overlay\",\"size\":10,\"solidity\":0.2}},\"type\":\"barpolar\"}],\"pie\":[{\"automargin\":true,\"type\":\"pie\"}]},\"layout\":{\"autotypenumbers\":\"strict\",\"colorway\":[\"#636efa\",\"#EF553B\",\"#00cc96\",\"#ab63fa\",\"#FFA15A\",\"#19d3f3\",\"#FF6692\",\"#B6E880\",\"#FF97FF\",\"#FECB52\"],\"font\":{\"color\":\"#2a3f5f\"},\"hovermode\":\"closest\",\"hoverlabel\":{\"align\":\"left\"},\"paper_bgcolor\":\"white\",\"plot_bgcolor\":\"#E5ECF6\",\"polar\":{\"bgcolor\":\"#E5ECF6\",\"angularaxis\":{\"gridcolor\":\"white\",\"linecolor\":\"white\",\"ticks\":\"\"},\"radialaxis\":{\"gridcolor\":\"white\",\"linecolor\":\"white\",\"ticks\":\"\"}},\"ternary\":{\"bgcolor\":\"#E5ECF6\",\"aaxis\":{\"gridcolor\":\"white\",\"linecolor\":\"white\",\"ticks\":\"\"},\"baxis\":{\"gridcolor\":\"white\",\"linecolor\":\"white\",\"ticks\":\"\"},\"caxis\":{\"gridcolor\":\"white\",\"linecolor\":\"white\",\"ticks\":\"\"}},\"coloraxis\":{\"colorbar\":{\"outlinewidth\":0,\"ticks\":\"\"}},\"colorscale\":{\"sequential\":[[0.0,\"#0d0887\"],[0.1111111111111111,\"#46039f\"],[0.2222222222222222,\"#7201a8\"],[0.3333333333333333,\"#9c179e\"],[0.4444444444444444,\"#bd3786\"],[0.5555555555555556,\"#d8576b\"],[0.6666666666666666,\"#ed7953\"],[0.7777777777777778,\"#fb9f3a\"],[0.8888888888888888,\"#fdca26\"],[1.0,\"#f0f921\"]],\"sequentialminus\":[[0.0,\"#0d0887\"],[0.1111111111111111,\"#46039f\"],[0.2222222222222222,\"#7201a8\"],[0.3333333333333333,\"#9c179e\"],[0.4444444444444444,\"#bd3786\"],[0.5555555555555556,\"#d8576b\"],[0.6666666666666666,\"#ed7953\"],[0.7777777777777778,\"#fb9f3a\"],[0.8888888888888888,\"#fdca26\"],[1.0,\"#f0f921\"]],\"diverging\":[[0,\"#8e0152\"],[0.1,\"#c51b7d\"],[0.2,\"#de77ae\"],[0.3,\"#f1b6da\"],[0.4,\"#fde0ef\"],[0.5,\"#f7f7f7\"],[0.6,\"#e6f5d0\"],[0.7,\"#b8e186\"],[0.8,\"#7fbc41\"],[0.9,\"#4d9221\"],[1,\"#276419\"]]},\"xaxis\":{\"gridcolor\":\"white\",\"linecolor\":\"white\",\"ticks\":\"\",\"title\":{\"standoff\":15},\"zerolinecolor\":\"white\",\"automargin\":true,\"zerolinewidth\":2},\"yaxis\":{\"gridcolor\":\"white\",\"linecolor\":\"white\",\"ticks\":\"\",\"title\":{\"standoff\":15},\"zerolinecolor\":\"white\",\"automargin\":true,\"zerolinewidth\":2},\"scene\":{\"xaxis\":{\"backgroundcolor\":\"#E5ECF6\",\"gridcolor\":\"white\",\"linecolor\":\"white\",\"showbackground\":true,\"ticks\":\"\",\"zerolinecolor\":\"white\",\"gridwidth\":2},\"yaxis\":{\"backgroundcolor\":\"#E5ECF6\",\"gridcolor\":\"white\",\"linecolor\":\"white\",\"showbackground\":true,\"ticks\":\"\",\"zerolinecolor\":\"white\",\"gridwidth\":2},\"zaxis\":{\"backgroundcolor\":\"#E5ECF6\",\"gridcolor\":\"white\",\"linecolor\":\"white\",\"showbackground\":true,\"ticks\":\"\",\"zerolinecolor\":\"white\",\"gridwidth\":2}},\"shapedefaults\":{\"line\":{\"color\":\"#2a3f5f\"}},\"annotationdefaults\":{\"arrowcolor\":\"#2a3f5f\",\"arrowhead\":0,\"arrowwidth\":1},\"geo\":{\"bgcolor\":\"white\",\"landcolor\":\"#E5ECF6\",\"subunitcolor\":\"white\",\"showland\":true,\"showlakes\":true,\"lakecolor\":\"white\"},\"title\":{\"x\":0.05},\"mapbox\":{\"style\":\"light\"}}},\"xaxis\":{\"anchor\":\"y\",\"domain\":[0.0,1.0],\"title\":{\"text\":\"TRIP_MILES\"}},\"yaxis\":{\"anchor\":\"x\",\"domain\":[0.0,1.0],\"title\":{\"text\":\"FARE\"}},\"legend\":{\"tracegroupgap\":0},\"title\":{\"text\":\"Model predictions vs. true values\"}},                        {\"responsive\": true}                    ).then(function(){\n",
              "                            \n",
              "var gd = document.getElementById('aae65e4b-40af-46b2-a6fd-18eca91fcfb7');\n",
              "var x = new MutationObserver(function (mutations, observer) {{\n",
              "        var display = window.getComputedStyle(gd).display;\n",
              "        if (!display || display === 'none') {{\n",
              "            console.log([gd, 'removed!']);\n",
              "            Plotly.purge(gd);\n",
              "            observer.disconnect();\n",
              "        }}\n",
              "}});\n",
              "\n",
              "// Listen for the removal of the full notebook cells\n",
              "var notebookContainer = gd.closest('#notebook-container');\n",
              "if (notebookContainer) {{\n",
              "    x.observe(notebookContainer, {childList: true});\n",
              "}}\n",
              "\n",
              "// Listen for the clearing of the current output cell\n",
              "var outputEl = gd.closest('.output');\n",
              "if (outputEl) {{\n",
              "    x.observe(outputEl, {childList: true});\n",
              "}}\n",
              "\n",
              "                        })                };                            </script>        </div>\n",
              "</body>\n",
              "</html>"
            ]
          },
          "metadata": {}
        },
        {
          "output_type": "display_data",
          "data": {
            "text/plain": [
              "<Figure size 640x480 with 1 Axes>"
            ],
            "image/png": "[encoded data removed]"
          },
          "metadata": {}
        }
      ],
      "execution_count": 32
    },
    {
      "metadata": {
        "cellView": "form",
        "id": "Od7vJJpHiHYB",
        "colab": {
          "base_uri": "https://localhost:8080/"
        },
        "outputId": "920757ce-d9dc-4bc5-fae8-88ed41d6217d"
      },
      "cell_type": "code",
      "source": [
        "#@title Double-click to view answers for hyperparameter experiments\n",
        "\n",
        "# How did raising the learning rate impact your ability to train the model?\n",
        "# -----------------------------------------------------------------------------\n",
        "answer = \"\"\"\n",
        "When the learning rate is too high, the loss curve bounces around and does not\n",
        "appear to be moving towards convergence with each iteration. Also, notice that\n",
        "the predicted model does not fit the data very well. With a learning rate that\n",
        "is too high, it is unlikely that you will be able to train a model with good\n",
        "results.\n",
        "\"\"\"\n",
        "print(answer)\n",
        "\n",
        "# How did lowering the learning rate impact your ability to train the model?\n",
        "# -----------------------------------------------------------------------------\n",
        "answer = '''\n",
        "When the learning rate is too small, it may take longer for the loss curve to\n",
        "converge. With a small learning rate the loss curve decreases slowly, but does\n",
        "not show a dramatic drop or leveling off. With a small learning rate you could\n",
        "increase the number of epochs so that your model will eventually converge, but\n",
        "it will take longer.\n",
        "'''\n",
        "print(answer)\n",
        "\n",
        "# Did changing the batch size effect your training results?\n",
        "# -----------------------------------------------------------------------------\n",
        "answer = '''\n",
        "Increasing the batch size makes each epoch run faster, but as with the smaller\n",
        "learning rate, the model does not converge with just 20 epochs. If you have\n",
        "time, try increasing the number of epochs and eventually you should see the\n",
        "model converge.\n",
        "'''\n",
        "print(answer)"
      ],
      "outputs": [
        {
          "output_type": "stream",
          "name": "stdout",
          "text": [
            "\n",
            "When the learning rate is too high, the loss curve bounces around and does not\n",
            "appear to be moving towards convergence with each iteration. Also, notice that\n",
            "the predicted model does not fit the data very well. With a learning rate that\n",
            "is too high, it is unlikely that you will be able to train a model with good\n",
            "results.\n",
            "\n",
            "\n",
            "When the learning rate is too small, it may take longer for the loss curve to\n",
            "converge. With a small learning rate the loss curve decreases slowly, but does\n",
            "not show a dramatic drop or leveling off. With a small learning rate you could\n",
            "increase the number of epochs so that your model will eventually converge, but\n",
            "it will take longer.\n",
            "\n",
            "\n",
            "Increasing the batch size makes each epoch run faster, but as with the smaller\n",
            "learning rate, the model does not converge with just 20 epochs. If you have\n",
            "time, try increasing the number of epochs and eventually you should see the\n",
            "model converge.\n",
            "\n"
          ]
        }
      ],
      "execution_count": 33
    },
    {
      "metadata": {
        "id": "o27u0JRj_gJr"
      },
      "cell_type": "markdown",
      "source": [
        "## Train a model with two features\n",
        "\n",
        "The model you trained with the feature ``TOTAL_MILES`` demonstrates fairly strong predictive power, but is it possible to do better? In this step, try training the model with two features, ``TRIP_MILES`` and ``TRIP_MINUTES``, to see if you can improve the model. You may recall that the original dataset does not include a feature ``TRIP_MINUTES``, but this feature can be easily derived from ``TRIP_SECONDS`` as shown in the code below.*\n",
        "\n",
        "**Instructions**\n",
        "1. Review the code in **Experiment 3** code cell.\n",
        "1. Run the **Experiment 3** code cell.\n",
        "1. Review the output from the training run and answer these questions:\n",
        "  * Does the model with two features produce better results than one using a single feature?\n",
        "  * Does it make a difference if you use ``TRIP_SECONDS`` instead of ``TRIP_MINUTES``?\n",
        "  * How well do you think the model comes to the ground truth fare calculation for Chicago Taxi Trips?\n",
        "\n",
        "\n",
        "Notice that the scatter plot of the features vs. the label is a three dimensional (3-D) plot. This representation allows you to visualize both features and the label all together. The two features (TRIP_MILES and TRIP_MINUTES) are on the x and y axis, and the label (FARE) is on the z axis. The plot shows individual examples in the dataset as circles, and the model as a surface (plane). With this 3-D model, if the trained model is good you would expect most of the examples to land on the plane surface. The 3-D plot is interactive so you can explore the data further by clicking or dragging the plot."
      ]
    },
    {
      "metadata": {
        "id": "Mg3gUYOoBAtd",
        "colab": {
          "base_uri": "https://localhost:8080/",
          "height": 1000
        },
        "outputId": "140ad4f0-c0f2-4efa-a29a-481cfe046a73"
      },
      "cell_type": "code",
      "source": [
        "#@title Code - Experiment 3\n",
        "\n",
        "# The following variables are the hyperparameters.\n",
        "settings_3 = ml_edu.experiment.ExperimentSettings(\n",
        "    learning_rate = 0.001,\n",
        "    number_epochs = 20,\n",
        "    batch_size = 50,\n",
        "    input_features = ['TRIP_MILES', 'TRIP_MINUTES']\n",
        ")\n",
        "\n",
        "training_df['TRIP_MINUTES'] = training_df['TRIP_SECONDS']/60\n",
        "\n",
        "metrics = [keras.metrics.RootMeanSquaredError(name='rmse')]\n",
        "\n",
        "model_3 = create_model(settings_3, metrics)\n",
        "\n",
        "experiment_3 = train_model('two_features', model_3, training_df, 'FARE', settings_3)\n",
        "\n",
        "ml_edu.results.plot_experiment_metrics(experiment_3, ['rmse'])\n",
        "ml_edu.results.plot_model_predictions(experiment_3, training_df, 'FARE')"
      ],
      "outputs": [
        {
          "output_type": "stream",
          "name": "stdout",
          "text": [
            "Epoch 1/20\n",
            "\u001b[1m634/634\u001b[0m \u001b[32m━━━━━━━━━━━━━━━━━━━━\u001b[0m\u001b[37m\u001b[0m \u001b[1m1s\u001b[0m 837us/step - loss: 432.0930 - rmse: 20.5711\n",
            "Epoch 2/20\n",
            "\u001b[1m634/634\u001b[0m \u001b[32m━━━━━━━━━━━━━━━━━━━━\u001b[0m\u001b[37m\u001b[0m \u001b[1m1s\u001b[0m 848us/step - loss: 16.9136 - rmse: 4.1038\n",
            "Epoch 3/20\n",
            "\u001b[1m634/634\u001b[0m \u001b[32m━━━━━━━━━━━━━━━━━━━━\u001b[0m\u001b[37m\u001b[0m \u001b[1m1s\u001b[0m 1ms/step - loss: 15.0611 - rmse: 3.8673\n",
            "Epoch 4/20\n",
            "\u001b[1m634/634\u001b[0m \u001b[32m━━━━━━━━━━━━━━━━━━━━\u001b[0m\u001b[37m\u001b[0m \u001b[1m1s\u001b[0m 825us/step - loss: 14.5883 - rmse: 3.8143\n",
            "Epoch 5/20\n",
            "\u001b[1m634/634\u001b[0m \u001b[32m━━━━━━━━━━━━━━━━━━━━\u001b[0m\u001b[37m\u001b[0m \u001b[1m1s\u001b[0m 813us/step - loss: 13.0860 - rmse: 3.6103\n",
            "Epoch 6/20\n",
            "\u001b[1m634/634\u001b[0m \u001b[32m━━━━━━━━━━━━━━━━━━━━\u001b[0m\u001b[37m\u001b[0m \u001b[1m1s\u001b[0m 804us/step - loss: 12.9428 - rmse: 3.5946\n",
            "Epoch 7/20\n",
            "\u001b[1m634/634\u001b[0m \u001b[32m━━━━━━━━━━━━━━━━━━━━\u001b[0m\u001b[37m\u001b[0m \u001b[1m1s\u001b[0m 837us/step - loss: 12.9343 - rmse: 3.5892\n",
            "Epoch 8/20\n",
            "\u001b[1m634/634\u001b[0m \u001b[32m━━━━━━━━━━━━━━━━━━━━\u001b[0m\u001b[37m\u001b[0m \u001b[1m-2s\u001b[0m -2833us/step - loss: 10.8223 - rmse: 3.2849\n",
            "Epoch 9/20\n",
            "\u001b[1m634/634\u001b[0m \u001b[32m━━━━━━━━━━━━━━━━━━━━\u001b[0m\u001b[37m\u001b[0m \u001b[1m1s\u001b[0m 808us/step - loss: 11.6943 - rmse: 3.4147\n",
            "Epoch 10/20\n",
            "\u001b[1m634/634\u001b[0m \u001b[32m━━━━━━━━━━━━━━━━━━━━\u001b[0m\u001b[37m\u001b[0m \u001b[1m1s\u001b[0m 843us/step - loss: 11.6811 - rmse: 3.4145\n",
            "Epoch 11/20\n",
            "\u001b[1m634/634\u001b[0m \u001b[32m━━━━━━━━━━━━━━━━━━━━\u001b[0m\u001b[37m\u001b[0m \u001b[1m1s\u001b[0m 851us/step - loss: 11.7238 - rmse: 3.4106\n",
            "Epoch 12/20\n",
            "\u001b[1m634/634\u001b[0m \u001b[32m━━━━━━━━━━━━━━━━━━━━\u001b[0m\u001b[37m\u001b[0m \u001b[1m1s\u001b[0m 810us/step - loss: 12.6105 - rmse: 3.5473\n",
            "Epoch 13/20\n",
            "\u001b[1m634/634\u001b[0m \u001b[32m━━━━━━━━━━━━━━━━━━━━\u001b[0m\u001b[37m\u001b[0m \u001b[1m1s\u001b[0m 825us/step - loss: 12.2197 - rmse: 3.4830\n",
            "Epoch 14/20\n",
            "\u001b[1m634/634\u001b[0m \u001b[32m━━━━━━━━━━━━━━━━━━━━\u001b[0m\u001b[37m\u001b[0m \u001b[1m1s\u001b[0m 845us/step - loss: 11.7056 - rmse: 3.4094\n",
            "Epoch 15/20\n",
            "\u001b[1m634/634\u001b[0m \u001b[32m━━━━━━━━━━━━━━━━━━━━\u001b[0m\u001b[37m\u001b[0m \u001b[1m1s\u001b[0m 833us/step - loss: 11.4490 - rmse: 3.3804\n",
            "Epoch 16/20\n",
            "\u001b[1m634/634\u001b[0m \u001b[32m━━━━━━━━━━━━━━━━━━━━\u001b[0m\u001b[37m\u001b[0m \u001b[1m1s\u001b[0m 788us/step - loss: 11.5740 - rmse: 3.3981\n",
            "Epoch 17/20\n",
            "\u001b[1m634/634\u001b[0m \u001b[32m━━━━━━━━━━━━━━━━━━━━\u001b[0m\u001b[37m\u001b[0m \u001b[1m1s\u001b[0m 822us/step - loss: 12.4629 - rmse: 3.5260\n",
            "Epoch 18/20\n",
            "\u001b[1m634/634\u001b[0m \u001b[32m━━━━━━━━━━━━━━━━━━━━\u001b[0m\u001b[37m\u001b[0m \u001b[1m1s\u001b[0m 809us/step - loss: 11.7682 - rmse: 3.4198\n",
            "Epoch 19/20\n",
            "\u001b[1m634/634\u001b[0m \u001b[32m━━━━━━━━━━━━━━━━━━━━\u001b[0m\u001b[37m\u001b[0m \u001b[1m1s\u001b[0m 821us/step - loss: 12.9709 - rmse: 3.5895\n",
            "Epoch 20/20\n",
            "\u001b[1m634/634\u001b[0m \u001b[32m━━━━━━━━━━━━━━━━━━━━\u001b[0m\u001b[37m\u001b[0m \u001b[1m1s\u001b[0m 835us/step - loss: 12.9815 - rmse: 3.6000\n",
            "\u001b[1m7/7\u001b[0m \u001b[32m━━━━━━━━━━━━━━━━━━━━\u001b[0m\u001b[37m\u001b[0m \u001b[1m0s\u001b[0m 5ms/step \n",
            "\u001b[1m4/4\u001b[0m \u001b[32m━━━━━━━━━━━━━━━━━━━━\u001b[0m\u001b[37m\u001b[0m \u001b[1m0s\u001b[0m 5ms/step \n"
          ]
        },
        {
          "output_type": "display_data",
          "data": {
            "text/html": [
              "<html>\n",
              "<head><meta charset=\"utf-8\" /></head>\n",
              "<body>\n",
              "    <div>            <script src=\"https://cdnjs.cloudflare.com/ajax/libs/mathjax/2.7.5/MathJax.js?config=TeX-AMS-MML_SVG\"></script><script type=\"text/javascript\">if (window.MathJax && window.MathJax.Hub && window.MathJax.Hub.Config) {window.MathJax.Hub.Config({SVG: {font: \"STIX-Web\"}});}</script>                <script type=\"text/javascript\">window.PlotlyConfig = {MathJaxConfig: 'local'};</script>\n",
              "        <script charset=\"utf-8\" src=\"https://cdn.plot.ly/plotly-2.35.2.min.js\"></script>                <div id=\"873c759b-4b59-4814-ba61-14e2398018bb\" class=\"plotly-graph-div\" style=\"height:525px; width:100%;\"></div>            <script type=\"text/javascript\">                                    window.PLOTLYENV=window.PLOTLYENV || {};                                    if (document.getElementById(\"873c759b-4b59-4814-ba61-14e2398018bb\")) {                    Plotly.newPlot(                        \"873c759b-4b59-4814-ba61-14e2398018bb\",                        [{\"hovertemplate\":\"TRIP_MILES=%{x}\\u003cbr\\u003eTRIP_MINUTES=%{y}\\u003cbr\\u003eFARE=%{z}\\u003cextra\\u003e\\u003c\\u002fextra\\u003e\",\"legendgroup\":\"\",\"marker\":{\"color\":\"#636efa\",\"symbol\":\"circle\"},\"mode\":\"markers\",\"name\":\"\",\"scene\":\"scene\",\"showlegend\":false,\"x\":[2.06,10.22,5.11,9.0,3.4,17.5,17.92,1.0,2.0,17.74,3.7,17.26,17.6,1.68,1.9,11.29,0.9,4.68,4.05,16.86,6.4,1.27,1.3,6.6,19.0,17.91,6.5,2.01,11.55,1.34,2.14,5.61,11.01,9.2,2.04,17.1,6.7,2.8,18.44,11.39,0.56,14.95,18.23,0.96,46.15,17.2,17.52,17.24,17.27,1.9,0.84,9.19,17.29,21.7,18.1,11.27,1.8,13.3,20.2,1.77,10.43,17.5,6.55,2.3,18.04,18.15,3.3,4.37,0.7,1.4,19.71,18.75,4.72,9.77,16.0,7.96,15.8,19.42,0.7,2.51,16.87,6.94,17.7,0.7,17.57,0.96,3.3,1.9,13.67,7.28,1.9,1.65,16.26,18.4,1.03,1.3,10.63,12.56,14.67,12.77,1.45,3.93,0.88,3.7,0.9,6.5,2.16,8.23,0.5,1.51,4.01,19.1,0.71,7.48,6.07,11.99,9.2,4.5,22.0,11.8,12.13,9.9,0.86,1.83,7.0,10.93,20.88,3.5,8.1,17.8,8.29,2.22,17.6,1.62,11.17,2.48,12.7,3.8,17.9,12.75,17.9,1.5,0.74,8.58,16.1,10.56,10.81,16.63,17.67,1.7,18.64,31.51,1.21,20.3,17.37,9.17,0.97,10.78,10.54,1.81,0.8,7.18,1.81,2.08,16.82,1.95,16.25,14.91,13.4,12.48,5.73,11.35,1.98,17.55,2.3,8.0,0.55,9.61,10.81,2.26,1.24,10.2,14.8,10.6,2.51,3.0,2.7,5.94,1.0,12.6,1.62,13.7,17.86,0.61,2.97,4.96,7.79,1.21,2.19,1.21],\"y\":[12.883333333333333,29.433333333333334,16.45,20.0,21.0,56.0,42.766666666666666,6.0,10.0,33.8,13.0,53.333333333333336,63.0,15.533333333333333,12.0,23.583333333333332,6.183333333333334,37.983333333333334,7.316666666666666,50.7,31.0,10.083333333333334,8.0,68.0,69.0,60.333333333333336,25.1,18.466666666666665,21.683333333333334,4.316666666666666,8.366666666666667,8.683333333333334,17.9,21.0,7.666666666666667,36.0,18.0,12.0,35.36666666666667,19.316666666666666,3.066666666666667,22.933333333333334,35.36666666666667,3.4833333333333334,64.7,25.0,42.666666666666664,30.866666666666667,36.483333333333334,26.0,5.816666666666666,37.0,26.45,56.5,28.433333333333334,34.53333333333333,8.0,20.0,39.0,5.983333333333333,32.083333333333336,36.0,20.2,8.0,43.766666666666666,57.833333333333336,13.0,14.55,5.0,7.0,50.11666666666667,21.866666666666667,15.583333333333334,36.7,31.983333333333334,20.4,41.016666666666666,49.55,7.0,14.416666666666666,83.15,33.5,42.0,4.2,47.38333333333333,6.533333333333333,8.0,12.0,18.5,19.083333333333332,12.0,9.666666666666666,27.283333333333335,30.7,5.483333333333333,6.9,19.883333333333333,22.933333333333334,44.233333333333334,35.56666666666667,8.45,29.083333333333332,4.9,21.0,6.0,12.0,10.6,25.383333333333333,2.0,6.633333333333334,10.45,42.0,5.35,20.55,20.666666666666668,31.916666666666668,35.233333333333334,17.0,27.0,19.0,12.316666666666666,20.75,7.316666666666666,11.233333333333333,15.0,34.4,29.683333333333334,22.2,26.0,27.333333333333332,17.25,14.85,48.0,9.25,21.433333333333334,22.833333333333332,20.75,8.25,35.0,48.266666666666666,46.0,11.0,5.75,31.966666666666665,24.0,32.45,27.083333333333332,34.9,34.4,19.383333333333333,30.15,38.15,7.85,29.0,34.96666666666667,36.516666666666666,4.533333333333333,17.95,31.55,11.2,4.0,14.55,7.316666666666666,9.533333333333333,44.63333333333333,17.116666666666667,32.81666666666667,32.81666666666667,17.0,35.53333333333333,15.416666666666666,16.116666666666667,10.016666666666667,47.21666666666667,16.433333333333334,18.65,3.566666666666667,33.75,97.55,10.966666666666667,7.0,43.0,23.0,44.0,12.25,26.0,13.0,10.433333333333334,7.0,29.65,8.4,33.0,48.083333333333336,4.4,10.083333333333334,28.433333333333334,13.433333333333334,3.6333333333333333,16.15,6.5],\"z\":[9.75,29.0,16.75,24.5,14.75,43.75,44.75,6.25,8.5,44.5,12.25,44.0,47.0,10.0,9.25,29.5,6.25,21.5,14.07,43.75,19.5,7.5,7.0,36.0,52.5,46.0,20.5,12.0,29.75,60.87,9.0,16.25,29.0,26.0,9.0,44.75,20.0,10.5,46.5,30.0,4.75,37.75,45.25,5.5,111.25,42.75,43.75,42.25,43.5,13.0,6.0,26.7,42.25,75.41,44.5,30.75,8.0,34.0,49.0,7.5,30.5,44.0,25.25,9.0,44.75,60.0,11.5,14.75,5.25,7.25,49.0,45.75,15.5,29.25,40.0,23.25,40.75,51.75,6.0,10.18,36.06,21.72,48.0,5.25,44.0,6.5,11.25,9.25,34.25,20.62,9.0,8.25,40.75,47.25,6.0,7.0,28.5,32.0,41.0,35.25,7.5,14.74,6.0,14.75,6.0,17.75,9.5,23.0,4.25,9.0,13.73,48.75,5.5,22.28,19.25,33.0,27.5,15.5,53.5,31.0,30.5,27.0,6.25,9.0,19.75,30.75,50.75,14.5,24.5,47.99,23.0,9.37,44.75,9.0,29.0,13.25,32.75,12.25,44.5,35.25,43.25,8.25,9.0,24.5,40.75,29.75,29.0,41.5,44.25,11.5,46.25,75.25,9.0,50.75,43.0,29.5,9.0,28.25,31.25,8.75,5.25,20.25,9.0,8.75,42.5,10.25,40.75,38.25,30.25,34.75,17.25,29.0,9.0,43.75,11.0,22.25,4.75,28.25,50.5,9.5,6.75,30.0,37.5,30.75,10.8,32.25,10.75,17.0,6.75,32.75,9.0,35.75,44.25,9.0,11.0,18.0,21.5,6.0,10.5,6.75],\"type\":\"scatter3d\"},{\"name\":\"prediction\",\"opacity\":0.5,\"x\":[0.5,5.572222222222222,10.644444444444444,15.716666666666665,20.788888888888888,25.86111111111111,30.93333333333333,36.00555555555555,41.077777777777776,46.15],\"y\":[2.0,12.616666666666667,23.233333333333334,33.85,44.46666666666667,55.083333333333336,65.7,76.31666666666666,86.93333333333334,97.55],\"z\":[[5.137519,15.421864,25.70621,35.990555,46.2749,56.559246,66.84359,77.12793,87.41228,97.696625],[6.666566,16.95091,27.235256,37.5196,47.803944,58.08829,68.372635,78.656975,88.94132,99.22567],[8.195613,18.479958,28.764305,39.04865,49.332993,59.61734,69.90168,80.18602,90.47037,100.754715],[9.72466,20.009007,30.29335,40.577694,50.862038,61.146385,71.430725,81.71507,91.99942,102.28377],[11.253707,21.538054,31.8224,42.106743,52.391087,62.675434,72.95977,83.24412,93.528465,103.81281],[12.782754,23.0671,33.351444,43.635788,53.92013,64.204475,74.48882,84.77316,95.05751,105.34186],[14.311801,24.596146,34.880493,45.164837,55.44918,65.73353,76.01787,86.30221,96.586555,106.8709],[15.840849,26.125195,36.409542,46.693882,56.97823,67.26257,77.54691,87.83126,98.11561,108.399956],[17.369896,27.654242,37.938587,48.22293,58.507275,68.79162,79.07596,89.360306,99.64465,109.929],[18.898945,29.183289,39.467636,49.75198,60.036324,70.32066,80.60501,90.88935,101.1737,111.458046]],\"type\":\"surface\"}],                        {\"template\":{\"data\":{\"histogram2dcontour\":[{\"type\":\"histogram2dcontour\",\"colorbar\":{\"outlinewidth\":0,\"ticks\":\"\"},\"colorscale\":[[0.0,\"#0d0887\"],[0.1111111111111111,\"#46039f\"],[0.2222222222222222,\"#7201a8\"],[0.3333333333333333,\"#9c179e\"],[0.4444444444444444,\"#bd3786\"],[0.5555555555555556,\"#d8576b\"],[0.6666666666666666,\"#ed7953\"],[0.7777777777777778,\"#fb9f3a\"],[0.8888888888888888,\"#fdca26\"],[1.0,\"#f0f921\"]]}],\"choropleth\":[{\"type\":\"choropleth\",\"colorbar\":{\"outlinewidth\":0,\"ticks\":\"\"}}],\"histogram2d\":[{\"type\":\"histogram2d\",\"colorbar\":{\"outlinewidth\":0,\"ticks\":\"\"},\"colorscale\":[[0.0,\"#0d0887\"],[0.1111111111111111,\"#46039f\"],[0.2222222222222222,\"#7201a8\"],[0.3333333333333333,\"#9c179e\"],[0.4444444444444444,\"#bd3786\"],[0.5555555555555556,\"#d8576b\"],[0.6666666666666666,\"#ed7953\"],[0.7777777777777778,\"#fb9f3a\"],[0.8888888888888888,\"#fdca26\"],[1.0,\"#f0f921\"]]}],\"heatmap\":[{\"type\":\"heatmap\",\"colorbar\":{\"outlinewidth\":0,\"ticks\":\"\"},\"colorscale\":[[0.0,\"#0d0887\"],[0.1111111111111111,\"#46039f\"],[0.2222222222222222,\"#7201a8\"],[0.3333333333333333,\"#9c179e\"],[0.4444444444444444,\"#bd3786\"],[0.5555555555555556,\"#d8576b\"],[0.6666666666666666,\"#ed7953\"],[0.7777777777777778,\"#fb9f3a\"],[0.8888888888888888,\"#fdca26\"],[1.0,\"#f0f921\"]]}],\"heatmapgl\":[{\"type\":\"heatmapgl\",\"colorbar\":{\"outlinewidth\":0,\"ticks\":\"\"},\"colorscale\":[[0.0,\"#0d0887\"],[0.1111111111111111,\"#46039f\"],[0.2222222222222222,\"#7201a8\"],[0.3333333333333333,\"#9c179e\"],[0.4444444444444444,\"#bd3786\"],[0.5555555555555556,\"#d8576b\"],[0.6666666666666666,\"#ed7953\"],[0.7777777777777778,\"#fb9f3a\"],[0.8888888888888888,\"#fdca26\"],[1.0,\"#f0f921\"]]}],\"contourcarpet\":[{\"type\":\"contourcarpet\",\"colorbar\":{\"outlinewidth\":0,\"ticks\":\"\"}}],\"contour\":[{\"type\":\"contour\",\"colorbar\":{\"outlinewidth\":0,\"ticks\":\"\"},\"colorscale\":[[0.0,\"#0d0887\"],[0.1111111111111111,\"#46039f\"],[0.2222222222222222,\"#7201a8\"],[0.3333333333333333,\"#9c179e\"],[0.4444444444444444,\"#bd3786\"],[0.5555555555555556,\"#d8576b\"],[0.6666666666666666,\"#ed7953\"],[0.7777777777777778,\"#fb9f3a\"],[0.8888888888888888,\"#fdca26\"],[1.0,\"#f0f921\"]]}],\"surface\":[{\"type\":\"surface\",\"colorbar\":{\"outlinewidth\":0,\"ticks\":\"\"},\"colorscale\":[[0.0,\"#0d0887\"],[0.1111111111111111,\"#46039f\"],[0.2222222222222222,\"#7201a8\"],[0.3333333333333333,\"#9c179e\"],[0.4444444444444444,\"#bd3786\"],[0.5555555555555556,\"#d8576b\"],[0.6666666666666666,\"#ed7953\"],[0.7777777777777778,\"#fb9f3a\"],[0.8888888888888888,\"#fdca26\"],[1.0,\"#f0f921\"]]}],\"mesh3d\":[{\"type\":\"mesh3d\",\"colorbar\":{\"outlinewidth\":0,\"ticks\":\"\"}}],\"scatter\":[{\"fillpattern\":{\"fillmode\":\"overlay\",\"size\":10,\"solidity\":0.2},\"type\":\"scatter\"}],\"parcoords\":[{\"type\":\"parcoords\",\"line\":{\"colorbar\":{\"outlinewidth\":0,\"ticks\":\"\"}}}],\"scatterpolargl\":[{\"type\":\"scatterpolargl\",\"marker\":{\"colorbar\":{\"outlinewidth\":0,\"ticks\":\"\"}}}],\"bar\":[{\"error_x\":{\"color\":\"#2a3f5f\"},\"error_y\":{\"color\":\"#2a3f5f\"},\"marker\":{\"line\":{\"color\":\"#E5ECF6\",\"width\":0.5},\"pattern\":{\"fillmode\":\"overlay\",\"size\":10,\"solidity\":0.2}},\"type\":\"bar\"}],\"scattergeo\":[{\"type\":\"scattergeo\",\"marker\":{\"colorbar\":{\"outlinewidth\":0,\"ticks\":\"\"}}}],\"scatterpolar\":[{\"type\":\"scatterpolar\",\"marker\":{\"colorbar\":{\"outlinewidth\":0,\"ticks\":\"\"}}}],\"histogram\":[{\"marker\":{\"pattern\":{\"fillmode\":\"overlay\",\"size\":10,\"solidity\":0.2}},\"type\":\"histogram\"}],\"scattergl\":[{\"type\":\"scattergl\",\"marker\":{\"colorbar\":{\"outlinewidth\":0,\"ticks\":\"\"}}}],\"scatter3d\":[{\"type\":\"scatter3d\",\"line\":{\"colorbar\":{\"outlinewidth\":0,\"ticks\":\"\"}},\"marker\":{\"colorbar\":{\"outlinewidth\":0,\"ticks\":\"\"}}}],\"scattermapbox\":[{\"type\":\"scattermapbox\",\"marker\":{\"colorbar\":{\"outlinewidth\":0,\"ticks\":\"\"}}}],\"scatterternary\":[{\"type\":\"scatterternary\",\"marker\":{\"colorbar\":{\"outlinewidth\":0,\"ticks\":\"\"}}}],\"scattercarpet\":[{\"type\":\"scattercarpet\",\"marker\":{\"colorbar\":{\"outlinewidth\":0,\"ticks\":\"\"}}}],\"carpet\":[{\"aaxis\":{\"endlinecolor\":\"#2a3f5f\",\"gridcolor\":\"white\",\"linecolor\":\"white\",\"minorgridcolor\":\"white\",\"startlinecolor\":\"#2a3f5f\"},\"baxis\":{\"endlinecolor\":\"#2a3f5f\",\"gridcolor\":\"white\",\"linecolor\":\"white\",\"minorgridcolor\":\"white\",\"startlinecolor\":\"#2a3f5f\"},\"type\":\"carpet\"}],\"table\":[{\"cells\":{\"fill\":{\"color\":\"#EBF0F8\"},\"line\":{\"color\":\"white\"}},\"header\":{\"fill\":{\"color\":\"#C8D4E3\"},\"line\":{\"color\":\"white\"}},\"type\":\"table\"}],\"barpolar\":[{\"marker\":{\"line\":{\"color\":\"#E5ECF6\",\"width\":0.5},\"pattern\":{\"fillmode\":\"overlay\",\"size\":10,\"solidity\":0.2}},\"type\":\"barpolar\"}],\"pie\":[{\"automargin\":true,\"type\":\"pie\"}]},\"layout\":{\"autotypenumbers\":\"strict\",\"colorway\":[\"#636efa\",\"#EF553B\",\"#00cc96\",\"#ab63fa\",\"#FFA15A\",\"#19d3f3\",\"#FF6692\",\"#B6E880\",\"#FF97FF\",\"#FECB52\"],\"font\":{\"color\":\"#2a3f5f\"},\"hovermode\":\"closest\",\"hoverlabel\":{\"align\":\"left\"},\"paper_bgcolor\":\"white\",\"plot_bgcolor\":\"#E5ECF6\",\"polar\":{\"bgcolor\":\"#E5ECF6\",\"angularaxis\":{\"gridcolor\":\"white\",\"linecolor\":\"white\",\"ticks\":\"\"},\"radialaxis\":{\"gridcolor\":\"white\",\"linecolor\":\"white\",\"ticks\":\"\"}},\"ternary\":{\"bgcolor\":\"#E5ECF6\",\"aaxis\":{\"gridcolor\":\"white\",\"linecolor\":\"white\",\"ticks\":\"\"},\"baxis\":{\"gridcolor\":\"white\",\"linecolor\":\"white\",\"ticks\":\"\"},\"caxis\":{\"gridcolor\":\"white\",\"linecolor\":\"white\",\"ticks\":\"\"}},\"coloraxis\":{\"colorbar\":{\"outlinewidth\":0,\"ticks\":\"\"}},\"colorscale\":{\"sequential\":[[0.0,\"#0d0887\"],[0.1111111111111111,\"#46039f\"],[0.2222222222222222,\"#7201a8\"],[0.3333333333333333,\"#9c179e\"],[0.4444444444444444,\"#bd3786\"],[0.5555555555555556,\"#d8576b\"],[0.6666666666666666,\"#ed7953\"],[0.7777777777777778,\"#fb9f3a\"],[0.8888888888888888,\"#fdca26\"],[1.0,\"#f0f921\"]],\"sequentialminus\":[[0.0,\"#0d0887\"],[0.1111111111111111,\"#46039f\"],[0.2222222222222222,\"#7201a8\"],[0.3333333333333333,\"#9c179e\"],[0.4444444444444444,\"#bd3786\"],[0.5555555555555556,\"#d8576b\"],[0.6666666666666666,\"#ed7953\"],[0.7777777777777778,\"#fb9f3a\"],[0.8888888888888888,\"#fdca26\"],[1.0,\"#f0f921\"]],\"diverging\":[[0,\"#8e0152\"],[0.1,\"#c51b7d\"],[0.2,\"#de77ae\"],[0.3,\"#f1b6da\"],[0.4,\"#fde0ef\"],[0.5,\"#f7f7f7\"],[0.6,\"#e6f5d0\"],[0.7,\"#b8e186\"],[0.8,\"#7fbc41\"],[0.9,\"#4d9221\"],[1,\"#276419\"]]},\"xaxis\":{\"gridcolor\":\"white\",\"linecolor\":\"white\",\"ticks\":\"\",\"title\":{\"standoff\":15},\"zerolinecolor\":\"white\",\"automargin\":true,\"zerolinewidth\":2},\"yaxis\":{\"gridcolor\":\"white\",\"linecolor\":\"white\",\"ticks\":\"\",\"title\":{\"standoff\":15},\"zerolinecolor\":\"white\",\"automargin\":true,\"zerolinewidth\":2},\"scene\":{\"xaxis\":{\"backgroundcolor\":\"#E5ECF6\",\"gridcolor\":\"white\",\"linecolor\":\"white\",\"showbackground\":true,\"ticks\":\"\",\"zerolinecolor\":\"white\",\"gridwidth\":2},\"yaxis\":{\"backgroundcolor\":\"#E5ECF6\",\"gridcolor\":\"white\",\"linecolor\":\"white\",\"showbackground\":true,\"ticks\":\"\",\"zerolinecolor\":\"white\",\"gridwidth\":2},\"zaxis\":{\"backgroundcolor\":\"#E5ECF6\",\"gridcolor\":\"white\",\"linecolor\":\"white\",\"showbackground\":true,\"ticks\":\"\",\"zerolinecolor\":\"white\",\"gridwidth\":2}},\"shapedefaults\":{\"line\":{\"color\":\"#2a3f5f\"}},\"annotationdefaults\":{\"arrowcolor\":\"#2a3f5f\",\"arrowhead\":0,\"arrowwidth\":1},\"geo\":{\"bgcolor\":\"white\",\"landcolor\":\"#E5ECF6\",\"subunitcolor\":\"white\",\"showland\":true,\"showlakes\":true,\"lakecolor\":\"white\"},\"title\":{\"x\":0.05},\"mapbox\":{\"style\":\"light\"}}},\"scene\":{\"domain\":{\"x\":[0.0,1.0],\"y\":[0.0,1.0]},\"xaxis\":{\"title\":{\"text\":\"TRIP_MILES\"}},\"yaxis\":{\"title\":{\"text\":\"TRIP_MINUTES\"}},\"zaxis\":{\"title\":{\"text\":\"FARE\"}}},\"legend\":{\"tracegroupgap\":0},\"title\":{\"text\":\"Model predictions vs. true values\"}},                        {\"responsive\": true}                    ).then(function(){\n",
              "                            \n",
              "var gd = document.getElementById('873c759b-4b59-4814-ba61-14e2398018bb');\n",
              "var x = new MutationObserver(function (mutations, observer) {{\n",
              "        var display = window.getComputedStyle(gd).display;\n",
              "        if (!display || display === 'none') {{\n",
              "            console.log([gd, 'removed!']);\n",
              "            Plotly.purge(gd);\n",
              "            observer.disconnect();\n",
              "        }}\n",
              "}});\n",
              "\n",
              "// Listen for the removal of the full notebook cells\n",
              "var notebookContainer = gd.closest('#notebook-container');\n",
              "if (notebookContainer) {{\n",
              "    x.observe(notebookContainer, {childList: true});\n",
              "}}\n",
              "\n",
              "// Listen for the clearing of the current output cell\n",
              "var outputEl = gd.closest('.output');\n",
              "if (outputEl) {{\n",
              "    x.observe(outputEl, {childList: true});\n",
              "}}\n",
              "\n",
              "                        })                };                            </script>        </div>\n",
              "</body>\n",
              "</html>"
            ]
          },
          "metadata": {}
        },
        {
          "output_type": "display_data",
          "data": {
            "text/plain": [
              "<Figure size 640x480 with 1 Axes>"
            ],
            "image/png": "[encoded data removed]"
          },
          "metadata": {}
        }
      ],
      "execution_count": 34
    },
    {
      "metadata": {
        "cellView": "form",
        "id": "uFkKK5t33xSX",
        "colab": {
          "base_uri": "https://localhost:8080/"
        },
        "outputId": "87ad798f-ab9e-4424-e8a9-05954e310f12"
      },
      "cell_type": "code",
      "source": [
        "#@title Double-click to view answers for training with two features\n",
        "\n",
        "# Does the model with two features produce better results than one using a\n",
        "# single feature?\n",
        "# -----------------------------------------------------------------------------\n",
        "answer = '''\n",
        "To answer this question for your specific training runs, compare the RMSE for\n",
        "each model. For example, if the RMSE for the model trained with one feature was\n",
        "3.7457 and the RMSE for the model with two features is 3.4787, that means that\n",
        "on average the model with two features makes predictions that are about $0.27\n",
        "closer to the observed fare.\n",
        "\n",
        "'''\n",
        "print(answer)\n",
        "\n",
        "# Does it make a difference if you use TRIP_SECONDS instead of TRIP_MINUTES?\n",
        "# -----------------------------------------------------------------------------\n",
        "answer = '''\n",
        "When training a model with more than one feature, it is important that all\n",
        "numeric values are roughly on the same scale. In this case, TRIP_SECONDS and\n",
        "TRIP_MILES do not meet this criteria. The mean value for TRIP_MILES is 8.3 and\n",
        "the mean for TRIP_SECONDS is 1,320; that is two orders of magnitude difference.\n",
        "In contrast, the mean for TRIP_MINUTES is 22, which is more similar to the scale\n",
        "of TRIP_MILES (8.3) than TRIP_SECONDS (1,320). Of course, this is not the\n",
        "only way to scale values before training, but you will learn about that in\n",
        "another module.\n",
        "'''\n",
        "print(answer)\n",
        "\n",
        "# How well do you think the model comes to the ground truth fare calculation for\n",
        "# Chicago taxi trips?\n",
        "# -----------------------------------------------------------------------------\n",
        "answer = '''\n",
        "In reality, Chicago taxi cabs use a documented formula to determine cab fares.\n",
        "For a single passenger paying cash, the fare is calculated like this:\n",
        "\n",
        "FARE = 2.25 * TRIP_MILES + 0.12 * TRIP_MINUTES + 3.25\n",
        "\n",
        "Typically with machine learning problems you would not know the 'correct'\n",
        "formula, but in this case you can use this knowledge to evaluate your model.\n",
        "Take a look at your model output (the weights and bias) and determine how\n",
        "well it matches the ground truth fare calculation. You should find that the\n",
        "model is roughly close to this formula.\n",
        "'''\n",
        "print(answer)"
      ],
      "outputs": [
        {
          "output_type": "stream",
          "name": "stdout",
          "text": [
            "\n",
            "To answer this question for your specific training runs, compare the RMSE for\n",
            "each model. For example, if the RMSE for the model trained with one feature was\n",
            "3.7457 and the RMSE for the model with two features is 3.4787, that means that\n",
            "on average the model with two features makes predictions that are about $0.27\n",
            "closer to the observed fare.\n",
            "\n",
            "\n",
            "\n",
            "When training a model with more than one feature, it is important that all\n",
            "numeric values are roughly on the same scale. In this case, TRIP_SECONDS and\n",
            "TRIP_MILES do not meet this criteria. The mean value for TRIP_MILES is 8.3 and\n",
            "the mean for TRIP_SECONDS is 1,320; that is two orders of magnitude difference.\n",
            "In contrast, the mean for TRIP_MINUTES is 22, which is more similar to the scale\n",
            "of TRIP_MILES (8.3) than TRIP_SECONDS (1,320). Of course, this is not the\n",
            "only way to scale values before training, but you will learn about that in\n",
            "another module.\n",
            "\n",
            "\n",
            "In reality, Chicago taxi cabs use a documented formula to determine cab fares.\n",
            "For a single passenger paying cash, the fare is calculated like this:\n",
            "\n",
            "FARE = 2.25 * TRIP_MILES + 0.12 * TRIP_MINUTES + 3.25\n",
            "\n",
            "Typically with machine learning problems you would not know the 'correct'\n",
            "formula, but in this case you can use this knowledge to evaluate your model.\n",
            "Take a look at your model output (the weights and bias) and determine how\n",
            "well it matches the ground truth fare calculation. You should find that the\n",
            "model is roughly close to this formula.\n",
            "\n"
          ]
        }
      ],
      "execution_count": 35
    },
    {
      "metadata": {
        "id": "compare_experiments_cell"
      },
      "cell_type": "markdown",
      "source": [
        "## Compare Experiments"
      ]
    },
    {
      "metadata": {
        "id": "compare_experiments_code",
        "colab": {
          "base_uri": "https://localhost:8080/",
          "height": 1000
        },
        "outputId": "9089d80f-b613-4d85-b658-532e6bf771af"
      },
      "cell_type": "code",
      "source": [
        "ml_edu.results.compare_experiment([experiment_1, experiment_3], ['rmse'], training_df, training_df['FARE'].values)"
      ],
      "outputs": [
        {
          "output_type": "display_data",
          "data": {
            "text/plain": [
              "<Figure size 1200x1200 with 2 Axes>"
            ],
            "image/png": "[encoded data removed]"
          },
          "metadata": {}
        }
      ],
      "execution_count": 36
    },
    {
      "metadata": {
        "id": "MzMfgxldSMGK"
      },
      "cell_type": "markdown",
      "source": [
        "# Part 4 - Validate Model\n",
        "\n",
        "\n",
        "---"
      ]
    },
    {
      "metadata": {
        "id": "_yW7nVxlO1WY"
      },
      "cell_type": "markdown",
      "source": [
        "## Use the model to make predictions\n",
        "\n",
        "Now that you have a trained model, you can use the model to make predictions. In practice, you should make predictions on examples that are not used during training. However, for this exercise, you'll just work with a subset of the same training dataset. In another Colab exercise you will explore ways to make predictions on examples not used in training.\n",
        "\n",
        "**Instructions**\n",
        "\n",
        "1. Run the **Define functions to make predictions** code cell.\n",
        "1. Run the **Make predictions** code cell.\n",
        "1. Review the predictions in the output.\n",
        "1. **Check your understanding** by answering these questions:\n",
        "  * How close is the predicted value to the label value? In other words, does your model accurately predict the fare for a taxi ride?"
      ]
    },
    {
      "metadata": {
        "id": "XdNxv3j8PGnr"
      },
      "cell_type": "code",
      "source": [
        "#@title Code - Define functions to make predictions\n",
        "def format_currency(x):\n",
        "  return \"${:.2f}\".format(x)\n",
        "\n",
        "def build_batch(df, batch_size):\n",
        "  batch = df.sample(n=batch_size).copy()\n",
        "  batch.set_index(np.arange(batch_size), inplace=True)\n",
        "  return batch\n",
        "\n",
        "def predict_fare(model, df, features, label, batch_size=50):\n",
        "  batch = build_batch(df, batch_size)\n",
        "  predicted_values = model.predict_on_batch(x={name: batch[name].values for name in features})\n",
        "\n",
        "  data = {\"PREDICTED_FARE\": [], \"OBSERVED_FARE\": [], \"L1_LOSS\": [],\n",
        "          features[0]: [], features[1]: []}\n",
        "  for i in range(batch_size):\n",
        "    predicted = predicted_values[i][0]\n",
        "    observed = batch.at[i, label]\n",
        "    data[\"PREDICTED_FARE\"].append(format_currency(predicted))\n",
        "    data[\"OBSERVED_FARE\"].append(format_currency(observed))\n",
        "    data[\"L1_LOSS\"].append(format_currency(abs(observed - predicted)))\n",
        "    data[features[0]].append(batch.at[i, features[0]])\n",
        "    data[features[1]].append(\"{:.2f}\".format(batch.at[i, features[1]]))\n",
        "\n",
        "  output_df = pd.DataFrame(data)\n",
        "  return output_df\n",
        "\n",
        "def show_predictions(output):\n",
        "  header = \"-\" * 80\n",
        "  banner = header + \"\\n\" + \"|\" + \"PREDICTIONS\".center(78) + \"|\" + \"\\n\" + header\n",
        "  print(banner)\n",
        "  print(output)\n",
        "  return"
      ],
      "outputs": [],
      "execution_count": 38
    },
    {
      "metadata": {
        "id": "PK3oO2kYV8m0",
        "colab": {
          "base_uri": "https://localhost:8080/"
        },
        "outputId": "b68a4df4-4b8e-4086-d033-b77e7de97afe"
      },
      "cell_type": "code",
      "source": [
        "#@title Code - Make predictions\n",
        "\n",
        "output = predict_fare(experiment_3.model, training_df, experiment_3.settings.input_features, 'FARE')\n",
        "show_predictions(output)"
      ],
      "outputs": [
        {
          "output_type": "stream",
          "name": "stdout",
          "text": [
            "--------------------------------------------------------------------------------\n",
            "|                                 PREDICTIONS                                  |\n",
            "--------------------------------------------------------------------------------\n",
            "   PREDICTED_FARE OBSERVED_FARE L1_LOSS  TRIP_MILES TRIP_MINUTES\n",
            "0          $11.85        $11.25   $0.60        3.10        12.00\n",
            "1          $14.21        $13.75   $0.46        4.43         9.68\n",
            "2          $42.51        $43.75   $1.24       17.30        25.00\n",
            "3          $10.63        $10.25   $0.38        2.50        12.00\n",
            "4           $9.27         $9.00   $0.27        2.05         8.85\n",
            "5          $20.83        $20.00   $0.83        7.03        19.03\n",
            "6          $29.07        $29.25   $0.18       10.10        33.00\n",
            "7          $29.43        $29.50   $0.07       11.20        20.00\n",
            "8           $7.91         $7.75   $0.16        1.31         9.83\n",
            "9          $10.29         $9.50   $0.79        2.40        11.00\n",
            "10         $13.41        $13.00   $0.41        3.99        10.30\n",
            "11          $6.73         $6.50   $0.23        1.00         6.00\n",
            "12         $15.03        $15.00   $0.03        4.10        20.00\n",
            "13         $19.94        $18.89   $1.05        6.22        24.28\n",
            "14         $14.80        $14.25   $0.55        4.20        17.00\n",
            "15         $27.19        $27.50   $0.31        8.51        42.37\n",
            "16          $5.98         $5.50   $0.48        0.67         5.47\n",
            "17         $53.23        $51.00   $2.23       19.60        67.00\n",
            "18          $9.07        $12.72   $3.65        2.08         7.07\n",
            "19         $26.75        $31.25   $4.50        7.73        50.25\n",
            "20          $8.98         $8.50   $0.48        1.90         9.00\n",
            "21         $43.45        $41.75   $1.70       16.96        36.30\n",
            "22          $6.17         $5.25   $0.92        0.88         3.82\n",
            "23          $8.38         $7.75   $0.63        1.88         5.08\n",
            "24         $43.26        $44.00   $0.74       17.88        22.05\n",
            "25         $23.51        $23.25   $0.26        8.00        24.00\n",
            "26         $10.60        $10.75   $0.15        2.31        14.42\n",
            "27         $25.64        $25.50   $0.14        9.59        16.42\n",
            "28         $30.24        $30.00   $0.24       11.38        23.10\n",
            "29         $21.85        $21.00   $0.85        7.67        17.08\n",
            "30          $9.33         $9.96   $0.63        1.99        10.12\n",
            "31         $14.37        $13.50   $0.87        4.33        12.22\n",
            "32         $13.50        $13.00   $0.50        3.40        19.22\n",
            "33         $41.31        $41.25   $0.06       14.39        57.62\n",
            "34         $18.27        $18.00   $0.27        5.20        27.00\n",
            "35          $6.10         $5.25   $0.85        0.70         5.90\n",
            "36         $22.35        $22.50   $0.15        6.99        30.17\n",
            "37          $9.94         $9.50   $0.44        2.30        10.00\n",
            "38         $34.32        $38.00   $3.68       10.58        62.73\n",
            "39         $11.57        $10.75   $0.82        2.89        13.02\n",
            "40         $10.22        $10.00   $0.22        2.34        11.37\n",
            "41         $42.96        $40.75   $2.21       16.10        45.00\n",
            "42         $13.41        $13.25   $0.16        3.96        10.72\n",
            "43         $46.15        $45.00   $1.15       18.17        37.98\n",
            "44          $7.32         $6.75   $0.57        1.21         7.17\n",
            "45         $39.63        $39.75   $0.12       16.10        21.85\n",
            "46         $32.49        $32.25   $0.24       12.00        30.00\n",
            "47          $9.63         $9.44   $0.19        2.02        11.77\n",
            "48          $9.85         $9.00   $0.85        2.40         8.00\n",
            "49          $8.22         $7.75   $0.47        1.65         7.23\n"
          ]
        }
      ],
      "execution_count": 39
    },
    {
      "metadata": {
        "cellView": "form",
        "id": "6sjix7lXI7xT",
        "colab": {
          "base_uri": "https://localhost:8080/"
        },
        "outputId": "55d75417-e580-4759-840d-45cdf72bf045"
      },
      "cell_type": "code",
      "source": [
        "#@title Double-click to view answers for validate model\n",
        "\n",
        "# How close is the predicted value to the label value?\n",
        "# -----------------------------------------------------------------------------\n",
        "answer = '''\n",
        "Based on a random sampling of examples, the model seems to do pretty well\n",
        "predicting the fare for a taxi ride. Most of the predicted values do not vary\n",
        "significantly from the observed value. You should be able to see this by looking\n",
        "at the column L1_LOSS = |observed - predicted|.\n",
        "'''\n",
        "print(answer)"
      ],
      "outputs": [
        {
          "output_type": "stream",
          "name": "stdout",
          "text": [
            "\n",
            "Based on a random sampling of examples, the model seems to do pretty well\n",
            "predicting the fare for a taxi ride. Most of the predicted values do not vary\n",
            "significantly from the observed value. You should be able to see this by looking\n",
            "at the column L1_LOSS = |observed - predicted|.\n",
            "\n"
          ]
        }
      ],
      "execution_count": 40
    }
  ],
  "metadata": {
    "colab": {
      "collapsed_sections": [
        "sgR4YRjj5T-b"
      ],
      "provenance": []
    },
    "kernelspec": {
      "display_name": "Python 3",
      "name": "python3"
    },
    "language_info": {
      "name": "python"
    }
  },
  "nbformat": 4,
  "nbformat_minor": 0
}